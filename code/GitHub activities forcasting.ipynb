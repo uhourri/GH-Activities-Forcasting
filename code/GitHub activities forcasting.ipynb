{
 "cells": [
  {
   "cell_type": "markdown",
   "metadata": {},
   "source": [
    "# Data importing"
   ]
  },
  {
   "cell_type": "code",
   "execution_count": 1,
   "metadata": {},
   "outputs": [],
   "source": [
    "import pandas as pd\n",
    "import numpy as np"
   ]
  },
  {
   "cell_type": "code",
   "execution_count": 2,
   "metadata": {},
   "outputs": [],
   "source": [
    "from statsmodels.tsa.statespace.sarimax import SARIMAX\n",
    "from statsmodels.tsa.statespace.structural import UnobservedComponents\n",
    "from statsmodels.tsa.exponential_smoothing.ets import ETSModel"
   ]
  },
  {
   "cell_type": "code",
   "execution_count": 3,
   "metadata": {},
   "outputs": [],
   "source": [
    "from sklearn.metrics import r2_score, mean_absolute_error"
   ]
  },
  {
   "cell_type": "code",
   "execution_count": 4,
   "metadata": {},
   "outputs": [
    {
     "data": {
      "text/html": [
       "<div>\n",
       "<style scoped>\n",
       "    .dataframe tbody tr th:only-of-type {\n",
       "        vertical-align: middle;\n",
       "    }\n",
       "\n",
       "    .dataframe tbody tr th {\n",
       "        vertical-align: top;\n",
       "    }\n",
       "\n",
       "    .dataframe thead th {\n",
       "        text-align: right;\n",
       "    }\n",
       "</style>\n",
       "<table border=\"1\" class=\"dataframe\">\n",
       "  <thead>\n",
       "    <tr style=\"text-align: right;\">\n",
       "      <th></th>\n",
       "      <th>category</th>\n",
       "      <th>contributor</th>\n",
       "      <th>repository</th>\n",
       "      <th>activity</th>\n",
       "      <th>date</th>\n",
       "    </tr>\n",
       "  </thead>\n",
       "  <tbody>\n",
       "    <tr>\n",
       "      <th>0</th>\n",
       "      <td>bot</td>\n",
       "      <td>AmplabJenkins</td>\n",
       "      <td>apache/spark</td>\n",
       "      <td>Commenting pull request</td>\n",
       "      <td>2022-11-25 09:55:19+00:00</td>\n",
       "    </tr>\n",
       "    <tr>\n",
       "      <th>1</th>\n",
       "      <td>bot</td>\n",
       "      <td>AmplabJenkins</td>\n",
       "      <td>apache/spark</td>\n",
       "      <td>Commenting pull request</td>\n",
       "      <td>2022-11-25 09:55:23+00:00</td>\n",
       "    </tr>\n",
       "    <tr>\n",
       "      <th>2</th>\n",
       "      <td>bot</td>\n",
       "      <td>AmplabJenkins</td>\n",
       "      <td>apache/spark</td>\n",
       "      <td>Commenting pull request</td>\n",
       "      <td>2022-11-25 09:55:26+00:00</td>\n",
       "    </tr>\n",
       "    <tr>\n",
       "      <th>3</th>\n",
       "      <td>bot</td>\n",
       "      <td>analysis-bot</td>\n",
       "      <td>facebook/react-native</td>\n",
       "      <td>Commenting pull request</td>\n",
       "      <td>2022-11-25 09:55:27+00:00</td>\n",
       "    </tr>\n",
       "    <tr>\n",
       "      <th>4</th>\n",
       "      <td>bot</td>\n",
       "      <td>neos-bot</td>\n",
       "      <td>neos/neos-ui-compiled</td>\n",
       "      <td>Pushing commits</td>\n",
       "      <td>2022-11-25 09:55:47+00:00</td>\n",
       "    </tr>\n",
       "    <tr>\n",
       "      <th>...</th>\n",
       "      <td>...</td>\n",
       "      <td>...</td>\n",
       "      <td>...</td>\n",
       "      <td>...</td>\n",
       "      <td>...</td>\n",
       "    </tr>\n",
       "    <tr>\n",
       "      <th>1015418</th>\n",
       "      <td>human</td>\n",
       "      <td>tychoish</td>\n",
       "      <td>neondatabase/autoscaling</td>\n",
       "      <td>Reviewing code</td>\n",
       "      <td>2023-04-15 16:06:15+00:00</td>\n",
       "    </tr>\n",
       "    <tr>\n",
       "      <th>1015419</th>\n",
       "      <td>human</td>\n",
       "      <td>tychoish</td>\n",
       "      <td>neondatabase/autoscaling</td>\n",
       "      <td>Reviewing code</td>\n",
       "      <td>2023-04-15 16:07:26+00:00</td>\n",
       "    </tr>\n",
       "    <tr>\n",
       "      <th>1015420</th>\n",
       "      <td>human</td>\n",
       "      <td>snakefoot</td>\n",
       "      <td>snakefoot/NLog</td>\n",
       "      <td>Creating branch</td>\n",
       "      <td>2023-04-15 16:07:33+00:00</td>\n",
       "    </tr>\n",
       "    <tr>\n",
       "      <th>1015421</th>\n",
       "      <td>human</td>\n",
       "      <td>snakefoot</td>\n",
       "      <td>NLog/NLog</td>\n",
       "      <td>Opening pull request</td>\n",
       "      <td>2023-04-15 16:08:07+00:00</td>\n",
       "    </tr>\n",
       "    <tr>\n",
       "      <th>1015422</th>\n",
       "      <td>human</td>\n",
       "      <td>lmangani</td>\n",
       "      <td>auxten/chdb</td>\n",
       "      <td>Forking repository</td>\n",
       "      <td>2023-04-15 16:14:22+00:00</td>\n",
       "    </tr>\n",
       "  </tbody>\n",
       "</table>\n",
       "<p>1015423 rows × 5 columns</p>\n",
       "</div>"
      ],
      "text/plain": [
       "        category    contributor                repository  \\\n",
       "0            bot  AmplabJenkins              apache/spark   \n",
       "1            bot  AmplabJenkins              apache/spark   \n",
       "2            bot  AmplabJenkins              apache/spark   \n",
       "3            bot   analysis-bot     facebook/react-native   \n",
       "4            bot       neos-bot     neos/neos-ui-compiled   \n",
       "...          ...            ...                       ...   \n",
       "1015418    human       tychoish  neondatabase/autoscaling   \n",
       "1015419    human       tychoish  neondatabase/autoscaling   \n",
       "1015420    human      snakefoot            snakefoot/NLog   \n",
       "1015421    human      snakefoot                 NLog/NLog   \n",
       "1015422    human       lmangani               auxten/chdb   \n",
       "\n",
       "                        activity                       date  \n",
       "0        Commenting pull request  2022-11-25 09:55:19+00:00  \n",
       "1        Commenting pull request  2022-11-25 09:55:23+00:00  \n",
       "2        Commenting pull request  2022-11-25 09:55:26+00:00  \n",
       "3        Commenting pull request  2022-11-25 09:55:27+00:00  \n",
       "4                Pushing commits  2022-11-25 09:55:47+00:00  \n",
       "...                          ...                        ...  \n",
       "1015418           Reviewing code  2023-04-15 16:06:15+00:00  \n",
       "1015419           Reviewing code  2023-04-15 16:07:26+00:00  \n",
       "1015420          Creating branch  2023-04-15 16:07:33+00:00  \n",
       "1015421     Opening pull request  2023-04-15 16:08:07+00:00  \n",
       "1015422       Forking repository  2023-04-15 16:14:22+00:00  \n",
       "\n",
       "[1015423 rows x 5 columns]"
      ]
     },
     "execution_count": 4,
     "metadata": {},
     "output_type": "execute_result"
    }
   ],
   "source": [
    "activities = pd.read_csv('../data/activities.csv')\n",
    "activities"
   ]
  },
  {
   "cell_type": "code",
   "execution_count": 5,
   "metadata": {},
   "outputs": [
    {
     "data": {
      "text/html": [
       "<div>\n",
       "<style scoped>\n",
       "    .dataframe tbody tr th:only-of-type {\n",
       "        vertical-align: middle;\n",
       "    }\n",
       "\n",
       "    .dataframe tbody tr th {\n",
       "        vertical-align: top;\n",
       "    }\n",
       "\n",
       "    .dataframe thead th {\n",
       "        text-align: right;\n",
       "    }\n",
       "</style>\n",
       "<table border=\"1\" class=\"dataframe\">\n",
       "  <thead>\n",
       "    <tr style=\"text-align: right;\">\n",
       "      <th></th>\n",
       "      <th>category</th>\n",
       "      <th>contributor</th>\n",
       "      <th>repository</th>\n",
       "      <th>activity</th>\n",
       "      <th>date</th>\n",
       "    </tr>\n",
       "  </thead>\n",
       "  <tbody>\n",
       "    <tr>\n",
       "      <th>365</th>\n",
       "      <td>bot</td>\n",
       "      <td>nodebb-misty</td>\n",
       "      <td>julianlam/nodebb-plugin-email-helper</td>\n",
       "      <td>Closing pull request</td>\n",
       "      <td>2022-11-25 11:08:46+00:00</td>\n",
       "    </tr>\n",
       "    <tr>\n",
       "      <th>409</th>\n",
       "      <td>bot</td>\n",
       "      <td>nodebb-misty</td>\n",
       "      <td>NodeBB/nodebb-plugin-topic-redirect</td>\n",
       "      <td>Closing pull request</td>\n",
       "      <td>2022-11-25 11:20:10+00:00</td>\n",
       "    </tr>\n",
       "    <tr>\n",
       "      <th>417</th>\n",
       "      <td>bot</td>\n",
       "      <td>nodebb-misty</td>\n",
       "      <td>NodeBB/nodebb-plugin-write-api</td>\n",
       "      <td>Closing pull request</td>\n",
       "      <td>2022-11-25 11:21:23+00:00</td>\n",
       "    </tr>\n",
       "    <tr>\n",
       "      <th>523</th>\n",
       "      <td>bot</td>\n",
       "      <td>nodebb-misty</td>\n",
       "      <td>julianlam/nodebb-plugin-sso-oauth</td>\n",
       "      <td>Closing pull request</td>\n",
       "      <td>2022-11-25 11:47:30+00:00</td>\n",
       "    </tr>\n",
       "    <tr>\n",
       "      <th>5518</th>\n",
       "      <td>bot</td>\n",
       "      <td>jenkins-x-bot-test</td>\n",
       "      <td>jenkins-x-charts/jxboot-helmfile-resources</td>\n",
       "      <td>Creating branch</td>\n",
       "      <td>2022-11-26 19:57:10+00:00</td>\n",
       "    </tr>\n",
       "    <tr>\n",
       "      <th>...</th>\n",
       "      <td>...</td>\n",
       "      <td>...</td>\n",
       "      <td>...</td>\n",
       "      <td>...</td>\n",
       "      <td>...</td>\n",
       "    </tr>\n",
       "    <tr>\n",
       "      <th>1015418</th>\n",
       "      <td>human</td>\n",
       "      <td>tychoish</td>\n",
       "      <td>neondatabase/autoscaling</td>\n",
       "      <td>Reviewing code</td>\n",
       "      <td>2023-04-15 16:06:15+00:00</td>\n",
       "    </tr>\n",
       "    <tr>\n",
       "      <th>1015419</th>\n",
       "      <td>human</td>\n",
       "      <td>tychoish</td>\n",
       "      <td>neondatabase/autoscaling</td>\n",
       "      <td>Reviewing code</td>\n",
       "      <td>2023-04-15 16:07:26+00:00</td>\n",
       "    </tr>\n",
       "    <tr>\n",
       "      <th>1015420</th>\n",
       "      <td>human</td>\n",
       "      <td>snakefoot</td>\n",
       "      <td>snakefoot/NLog</td>\n",
       "      <td>Creating branch</td>\n",
       "      <td>2023-04-15 16:07:33+00:00</td>\n",
       "    </tr>\n",
       "    <tr>\n",
       "      <th>1015421</th>\n",
       "      <td>human</td>\n",
       "      <td>snakefoot</td>\n",
       "      <td>NLog/NLog</td>\n",
       "      <td>Opening pull request</td>\n",
       "      <td>2023-04-15 16:08:07+00:00</td>\n",
       "    </tr>\n",
       "    <tr>\n",
       "      <th>1015422</th>\n",
       "      <td>human</td>\n",
       "      <td>lmangani</td>\n",
       "      <td>auxten/chdb</td>\n",
       "      <td>Forking repository</td>\n",
       "      <td>2023-04-15 16:14:22+00:00</td>\n",
       "    </tr>\n",
       "  </tbody>\n",
       "</table>\n",
       "<p>162000 rows × 5 columns</p>\n",
       "</div>"
      ],
      "text/plain": [
       "        category         contributor  \\\n",
       "365          bot        nodebb-misty   \n",
       "409          bot        nodebb-misty   \n",
       "417          bot        nodebb-misty   \n",
       "523          bot        nodebb-misty   \n",
       "5518         bot  jenkins-x-bot-test   \n",
       "...          ...                 ...   \n",
       "1015418    human            tychoish   \n",
       "1015419    human            tychoish   \n",
       "1015420    human           snakefoot   \n",
       "1015421    human           snakefoot   \n",
       "1015422    human            lmangani   \n",
       "\n",
       "                                         repository              activity  \\\n",
       "365            julianlam/nodebb-plugin-email-helper  Closing pull request   \n",
       "409             NodeBB/nodebb-plugin-topic-redirect  Closing pull request   \n",
       "417                  NodeBB/nodebb-plugin-write-api  Closing pull request   \n",
       "523               julianlam/nodebb-plugin-sso-oauth  Closing pull request   \n",
       "5518     jenkins-x-charts/jxboot-helmfile-resources       Creating branch   \n",
       "...                                             ...                   ...   \n",
       "1015418                    neondatabase/autoscaling        Reviewing code   \n",
       "1015419                    neondatabase/autoscaling        Reviewing code   \n",
       "1015420                              snakefoot/NLog       Creating branch   \n",
       "1015421                                   NLog/NLog  Opening pull request   \n",
       "1015422                                 auxten/chdb    Forking repository   \n",
       "\n",
       "                             date  \n",
       "365     2022-11-25 11:08:46+00:00  \n",
       "409     2022-11-25 11:20:10+00:00  \n",
       "417     2022-11-25 11:21:23+00:00  \n",
       "523     2022-11-25 11:47:30+00:00  \n",
       "5518    2022-11-26 19:57:10+00:00  \n",
       "...                           ...  \n",
       "1015418 2023-04-15 16:06:15+00:00  \n",
       "1015419 2023-04-15 16:07:26+00:00  \n",
       "1015420 2023-04-15 16:07:33+00:00  \n",
       "1015421 2023-04-15 16:08:07+00:00  \n",
       "1015422 2023-04-15 16:14:22+00:00  \n",
       "\n",
       "[162000 rows x 5 columns]"
      ]
     },
     "execution_count": 5,
     "metadata": {},
     "output_type": "execute_result"
    }
   ],
   "source": [
    "# 600 events for each contributor\n",
    "data = ( \n",
    "    activities\n",
    "    .groupby('contributor')\n",
    "    .tail(600)\n",
    "    .groupby('contributor')\n",
    "    .filter(lambda x: len(x) == 600)\n",
    ")\n",
    "data['date'] = pd.to_datetime(data['date'])\n",
    "data"
   ]
  },
  {
   "cell_type": "markdown",
   "metadata": {},
   "source": [
    "# Dynamic frequence"
   ]
  },
  {
   "cell_type": "code",
   "execution_count": 6,
   "metadata": {},
   "outputs": [],
   "source": [
    "def map_frequency(time_range):\n",
    "    if time_range >= 60 * 60 * 24:\n",
    "        return 'D'  # Daily if time range for one activity is a day or more\n",
    "    elif time_range >= 60 * 60:\n",
    "        time_range_h = time_range // 3600\n",
    "        freq = int(24 // ((24 // time_range_h) + 1)) if time_range_h > 1 else 1\n",
    "        return f\"{freq}H\"  # Hourly frequency\n",
    "    elif time_range >= 60:\n",
    "        time_range_m = time_range // 60\n",
    "        freq = int(60 // ((60 // time_range_m) + 1)) if time_range_m > 1 else 1\n",
    "        return f\"{freq}T\"  # Minutely frequency\n",
    "    else:\n",
    "        freq = int(60 // ((60 // time_range) + 1)) if time_range > 1 else 1\n",
    "        return f\"{freq}S\"  # Secondly frequency"
   ]
  },
  {
   "cell_type": "code",
   "execution_count": 7,
   "metadata": {},
   "outputs": [],
   "source": [
    "def frequency_to_seasonality(freq):\n",
    "    unit = freq[-1]\n",
    "    if unit == 'D':\n",
    "        return 7\n",
    "    elif unit == 'H':\n",
    "        return 24 // int(freq[:-1])\n",
    "    elif unit == 'T':\n",
    "        return 24 * (60 // int(freq[:-1]))\n",
    "    else:\n",
    "        return None"
   ]
  },
  {
   "cell_type": "code",
   "execution_count": 8,
   "metadata": {},
   "outputs": [],
   "source": [
    "# ((24*60*60)//((24*60*60)//(49*60*60)+1))//3600"
   ]
  },
  {
   "cell_type": "code",
   "execution_count": 9,
   "metadata": {},
   "outputs": [
    {
     "data": {
      "text/plain": [
       "<Axes: >"
      ]
     },
     "execution_count": 9,
     "metadata": {},
     "output_type": "execute_result"
    },
    {
     "data": {
      "image/png": "[encoded data removed]",
      "text/plain": [
       "<Figure size 1400x600 with 1 Axes>"
      ]
     },
     "metadata": {},
     "output_type": "display_data"
    }
   ],
   "source": [
    "random_name = data['contributor'].sample().values[0]\n",
    "random_user = data[data['contributor'] == random_name].reset_index(drop=True)\n",
    "\n",
    "result = (\n",
    "    random_user\n",
    "    .groupby([pd.Grouper(key='date', freq='D')])['activity']\n",
    "    .count()\n",
    "    .reset_index(name='n_activities')\n",
    "    .set_index('date')\n",
    "    .resample('D')\n",
    "    .sum()\n",
    "    .rename_axis(None)\n",
    ")\n",
    "result.plot(figsize=(14, 6))"
   ]
  },
  {
   "cell_type": "markdown",
   "metadata": {},
   "source": [
    "## 1. Mean approach"
   ]
  },
  {
   "cell_type": "markdown",
   "metadata": {},
   "source": [
    "Find the frequency based on the mean of time differences between activities"
   ]
  },
  {
   "cell_type": "code",
   "execution_count": 10,
   "metadata": {},
   "outputs": [],
   "source": [
    "def mean_based_frequency(contributor):\n",
    "    train_data = contributor.head(300)\n",
    "    train_data = train_data[train_data['date'] >= train_data['date'].max() - pd.DateOffset(months=3)]\n",
    "    time_range = (train_data['date'].iloc[-1] - train_data['date'].iloc[0]).total_seconds()//len(train_data)\n",
    "    frequency = map_frequency(time_range)\n",
    "    return frequency"
   ]
  },
  {
   "cell_type": "code",
   "execution_count": 11,
   "metadata": {},
   "outputs": [
    {
     "name": "stdout",
     "output_type": "stream",
     "text": [
      "Frequence is : 12T\n"
     ]
    }
   ],
   "source": [
    "# Example usage:\n",
    "print(\"Frequence is :\", mean_based_frequency(random_user))"
   ]
  },
  {
   "cell_type": "markdown",
   "metadata": {},
   "source": [
    "## 2. Quantile approach"
   ]
  },
  {
   "cell_type": "markdown",
   "metadata": {},
   "source": [
    "Find the frequency based on the median of time differences between activities"
   ]
  },
  {
   "cell_type": "code",
   "execution_count": 12,
   "metadata": {},
   "outputs": [],
   "source": [
    "def quantile_based_frequency(contributor, quantile=0.5):\n",
    "    train_data = contributor.head(300)\n",
    "    train_data = train_data[train_data['date'] >= train_data['date'].max() - pd.DateOffset(months=3)]\n",
    "    train_data['time_diff'] = train_data['date'].diff().dt.total_seconds()\n",
    "    time_range = train_data['time_diff'].quantile(quantile)\n",
    "    frequency = map_frequency(time_range)\n",
    "    return frequency"
   ]
  },
  {
   "cell_type": "code",
   "execution_count": 13,
   "metadata": {},
   "outputs": [
    {
     "name": "stdout",
     "output_type": "stream",
     "text": [
      "Frequence is : 1T\n"
     ]
    }
   ],
   "source": [
    "# Example usage:\n",
    "print(\"Frequence is :\", quantile_based_frequency(random_user, quantile=0.5))"
   ]
  },
  {
   "cell_type": "markdown",
   "metadata": {},
   "source": [
    "## 3. Smallest time approach"
   ]
  },
  {
   "cell_type": "markdown",
   "metadata": {},
   "source": [
    "Find the frequency based on the smallest time to do a specified number of activities (= 100) by sliding over the data"
   ]
  },
  {
   "cell_type": "code",
   "execution_count": 14,
   "metadata": {},
   "outputs": [],
   "source": [
    "def smallest_time_based_frequency(contributor, window_size=100):\n",
    "    train_data = contributor.head(300)\n",
    "    train_data = train_data[train_data['date'] >= train_data['date'].max() - pd.DateOffset(months=3)]\n",
    "\n",
    "    smallest_time = None\n",
    "    # iterate over contributor's data in a sliding window\n",
    "    for i in range(len(train_data) - window_size + 1):\n",
    "        window = train_data.iloc[i:i + window_size]\n",
    "        time_span = window['date'].iloc[-1] - window['date'].iloc[0]\n",
    "\n",
    "        # the smallest time span\n",
    "        if smallest_time is None or time_span < smallest_time:\n",
    "            smallest_time = time_span\n",
    "\n",
    "    time_range = smallest_time.total_seconds()//window_size\n",
    "\n",
    "    frequency = map_frequency(time_range)\n",
    "\n",
    "    return frequency"
   ]
  },
  {
   "cell_type": "code",
   "execution_count": 15,
   "metadata": {},
   "outputs": [
    {
     "name": "stdout",
     "output_type": "stream",
     "text": [
      "Frequence is : 1T\n"
     ]
    }
   ],
   "source": [
    "# Example usage:\n",
    "print(\"Frequence is :\", smallest_time_based_frequency(random_user, window_size=100))"
   ]
  },
  {
   "cell_type": "markdown",
   "metadata": {},
   "source": [
    "# Data splitting"
   ]
  },
  {
   "cell_type": "code",
   "execution_count": 16,
   "metadata": {},
   "outputs": [],
   "source": [
    "def split_activities(contributor, frequency):\n",
    "\n",
    "    result = (\n",
    "        contributor\n",
    "        .groupby([pd.Grouper(key='date', freq=frequency)])['activity']\n",
    "        .count()\n",
    "        .reset_index(name='n_activities')\n",
    "        .set_index('date')\n",
    "        .resample(frequency)\n",
    "        .sum()\n",
    "        .rename_axis(None)\n",
    "        .assign(\n",
    "            cumsum_activities = lambda x: x['n_activities'].cumsum()\n",
    "        )\n",
    "    )\n",
    "\n",
    "    train, test = (\n",
    "        result[result['cumsum_activities'] <= 300]\n",
    "        .apply(lambda x : x[x.index >= x.index.max() - pd.DateOffset(months=3)])\n",
    "        .drop('cumsum_activities', axis=1),\n",
    "\n",
    "        result[result['cumsum_activities'] > 300]\n",
    "        .drop('cumsum_activities', axis=1)\n",
    "    )\n",
    "\n",
    "    return train, test"
   ]
  },
  {
   "cell_type": "markdown",
   "metadata": {},
   "source": [
    "# Evaluation metrics & tools"
   ]
  },
  {
   "cell_type": "code",
   "execution_count": 17,
   "metadata": {},
   "outputs": [],
   "source": [
    "def ctd_score(y_true, y_pred, target_value):\n",
    "    true_cumsum = np.cumsum(y_true)\n",
    "    pred_cumsum = np.cumsum(y_pred)\n",
    "\n",
    "    if np.sum(y_pred) < target_value or np.sum(y_true) < target_value:\n",
    "        return None\n",
    "\n",
    "    time_true = np.argmax(true_cumsum >= target_value)\n",
    "    time_pred = np.argmax(pred_cumsum >= target_value)\n",
    "\n",
    "    return time_true - time_pred"
   ]
  },
  {
   "cell_type": "markdown",
   "metadata": {},
   "source": [
    "Converts a frequency string (e.g., '1H', '4H', '30T', '20T', '1D') to minutes."
   ]
  },
  {
   "cell_type": "code",
   "execution_count": 33,
   "metadata": {},
   "outputs": [],
   "source": [
    "def frequency_to_minutes(frequency):\n",
    "    mapping = {'T': 1, 'H': 60, 'D': 1440}\n",
    "    num, unit = int(frequency[:-1]), frequency[-1]\n",
    "    return num * mapping.get(unit, 1)"
   ]
  },
  {
   "cell_type": "code",
   "execution_count": 35,
   "metadata": {},
   "outputs": [
    {
     "data": {
      "text/plain": [
       "3"
      ]
     },
     "execution_count": 35,
     "metadata": {},
     "output_type": "execute_result"
    }
   ],
   "source": [
    "frequency_to_minutes('3S')"
   ]
  },
  {
   "cell_type": "markdown",
   "metadata": {},
   "source": [
    "# SARIMA model"
   ]
  },
  {
   "cell_type": "code",
   "execution_count": 18,
   "metadata": {},
   "outputs": [],
   "source": [
    "def sarima_model(contributor):\n",
    "\n",
    "    contributor_name = contributor['contributor'].iloc[0]\n",
    "    contributor_category = contributor['category'].iloc[0]\n",
    "\n",
    "    frequency = mean_based_frequency(contributor)\n",
    "    seasonality = frequency_to_seasonality(frequency)\n",
    "\n",
    "    train, test = split_activities(contributor, frequency)\n",
    "\n",
    "    print(contributor_name, frequency, seasonality)\n",
    "\n",
    "    # choosing best parameters (possible seasonality)\n",
    "    if seasonality and (len(train)//seasonality) >= 2:\n",
    "        order = (1, 1, 1)\n",
    "        seasonal_order = (1, 1, 1, seasonality)\n",
    "    else:\n",
    "        order = (int((len(train)/3)), 1, 0)\n",
    "        seasonal_order = None\n",
    "        seasonality = None\n",
    "\n",
    "    model = SARIMAX(\n",
    "        train['n_activities'],\n",
    "        order = order,\n",
    "        seasonal_order = seasonal_order, \n",
    "        enforce_invertibility = True, \n",
    "        enforce_stationarity = False\n",
    "        ).fit(disp=False, method='lbfgs')\n",
    "\n",
    "    # Forecast the test set using confidence interval with 95%\n",
    "    predictions = model.get_prediction(start=len(train), end=len(train)+len(test)-1).summary_frame(alpha=0.05)\n",
    "\n",
    "    metrics = pd.Series({\n",
    "        'contributor': contributor_name,\n",
    "        'category': contributor_category,\n",
    "        'r2': r2_score(test['n_activities'], predictions['mean']),\n",
    "        'mae': mean_absolute_error(test['n_activities'], predictions['mean']),\n",
    "        'ctd_100': ctd_score(test['n_activities'], predictions['mean'], 100),\n",
    "        'ctd_200': ctd_score(test['n_activities'], predictions['mean'], 200),\n",
    "        'ctd_300': ctd_score(test['n_activities'], predictions['mean'], 300),\n",
    "        'n_activities': train['n_activities'].sum(),\n",
    "        'frequency': frequency,\n",
    "        'seasonality':seasonality,\n",
    "        'data_points':len(train),\n",
    "    })\n",
    "\n",
    "    return metrics"
   ]
  },
  {
   "cell_type": "code",
   "execution_count": 19,
   "metadata": {},
   "outputs": [
    {
     "name": "stdout",
     "output_type": "stream",
     "text": [
      "0crat 1H 24\n",
      "AppVeyorBot 1H 24\n",
      "Code-Inside-Bot 1H 24\n"
     ]
    },
    {
     "name": "stderr",
     "output_type": "stream",
     "text": [
      "/Library/Frameworks/Python.framework/Versions/3.11/lib/python3.11/site-packages/statsmodels/base/model.py:607: ConvergenceWarning: Maximum Likelihood optimization failed to converge. Check mle_retvals\n",
      "  warnings.warn(\"Maximum Likelihood optimization failed to \"\n"
     ]
    },
    {
     "name": "stdout",
     "output_type": "stream",
     "text": [
      "CrowdinBot 1H 24\n",
      "DrahtBot 1H 24\n",
      "PJBot 4H 6\n",
      "addonsbot 4H 6\n",
      "adobe-bot 3T 480\n"
     ]
    },
    {
     "name": "stderr",
     "output_type": "stream",
     "text": [
      "/Library/Frameworks/Python.framework/Versions/3.11/lib/python3.11/site-packages/statsmodels/base/model.py:607: ConvergenceWarning: Maximum Likelihood optimization failed to converge. Check mle_retvals\n",
      "  warnings.warn(\"Maximum Likelihood optimization failed to \"\n"
     ]
    },
    {
     "name": "stdout",
     "output_type": "stream",
     "text": [
      "agones-bot 1H 24\n",
      "alluxio-bot 2H 12\n"
     ]
    },
    {
     "name": "stderr",
     "output_type": "stream",
     "text": [
      "/Library/Frameworks/Python.framework/Versions/3.11/lib/python3.11/site-packages/statsmodels/base/model.py:607: ConvergenceWarning: Maximum Likelihood optimization failed to converge. Check mle_retvals\n",
      "  warnings.warn(\"Maximum Likelihood optimization failed to \"\n"
     ]
    },
    {
     "name": "stdout",
     "output_type": "stream",
     "text": [
      "analysis-bot 3H 8\n",
      "angular-automatic-lock-bot[bot] 30T 48\n"
     ]
    },
    {
     "name": "stderr",
     "output_type": "stream",
     "text": [
      "/Library/Frameworks/Python.framework/Versions/3.11/lib/python3.11/site-packages/statsmodels/base/model.py:607: ConvergenceWarning: Maximum Likelihood optimization failed to converge. Check mle_retvals\n",
      "  warnings.warn(\"Maximum Likelihood optimization failed to \"\n"
     ]
    },
    {
     "name": "stdout",
     "output_type": "stream",
     "text": [
      "ansibot 2H 12\n",
      "apmmachine 20T 72\n",
      "aporeto-bot 1H 24\n",
      "aws-cdk-automation 3T 480\n",
      "backportbot-nextcloud[bot] 30T 48\n",
      "ballerina-bot 10T 144\n"
     ]
    },
    {
     "name": "stderr",
     "output_type": "stream",
     "text": [
      "/Library/Frameworks/Python.framework/Versions/3.11/lib/python3.11/site-packages/statsmodels/tsa/statespace/sarimax.py:866: UserWarning: Too few observations to estimate starting parameters for seasonal ARMA. All parameters except for variances will be set to zeros.\n",
      "  warn('Too few observations to estimate starting parameters%s.'\n",
      "/Library/Frameworks/Python.framework/Versions/3.11/lib/python3.11/site-packages/statsmodels/base/model.py:607: ConvergenceWarning: Maximum Likelihood optimization failed to converge. Check mle_retvals\n",
      "  warnings.warn(\"Maximum Likelihood optimization failed to \"\n"
     ]
    },
    {
     "name": "stdout",
     "output_type": "stream",
     "text": [
      "bedevere-bot 1H 24\n",
      "bits-bot 3H 8\n",
      "blathers-crl[bot] 7T 192\n",
      "bluespice-github-bot 1H 24\n",
      "boring-cyborg[bot] 1H 24\n",
      "bors-servo 30T 48\n",
      "bot-gradle 20T 72\n",
      "carsonbot 4H 6\n",
      "cf-gitbot 30T 48\n",
      "cheminfo-bot 1H 24\n",
      "cla-bot[bot] 30T 48\n",
      "cmsdmwmbot 4H 6\n",
      "codeclimate[bot] 2T 720\n",
      "codesandbox[bot] 8T 168\n"
     ]
    },
    {
     "name": "stderr",
     "output_type": "stream",
     "text": [
      "/Library/Frameworks/Python.framework/Versions/3.11/lib/python3.11/site-packages/statsmodels/tsa/statespace/sarimax.py:866: UserWarning: Too few observations to estimate starting parameters for seasonal ARMA. All parameters except for variances will be set to zeros.\n",
      "  warn('Too few observations to estimate starting parameters%s.'\n"
     ]
    },
    {
     "name": "stdout",
     "output_type": "stream",
     "text": [
      "confs-tech-bot 1H 24\n",
      "cozy-bot 1H 24\n",
      "cypress-bot[bot] 1H 24\n",
      "delete-merged-branch[bot] 4T 360\n",
      "devOpsHazelcast 30T 48\n",
      "dlang-bot 2H 12\n",
      "docker-library-bot 30T 48\n",
      "dontcallmedom-bot 1H 24\n",
      "dotnet-bot 15T 96\n"
     ]
    },
    {
     "name": "stderr",
     "output_type": "stream",
     "text": [
      "/Library/Frameworks/Python.framework/Versions/3.11/lib/python3.11/site-packages/statsmodels/tsa/statespace/sarimax.py:1009: UserWarning: Non-invertible starting seasonal moving average Using zeros as starting parameters.\n",
      "  warn('Non-invertible starting seasonal moving average'\n"
     ]
    },
    {
     "name": "stdout",
     "output_type": "stream",
     "text": [
      "dotnet-issue-labeler[bot] 1H 24\n",
      "dotnet-maestro-bot 1H 24\n"
     ]
    },
    {
     "name": "stderr",
     "output_type": "stream",
     "text": [
      "/Library/Frameworks/Python.framework/Versions/3.11/lib/python3.11/site-packages/statsmodels/base/model.py:607: ConvergenceWarning: Maximum Likelihood optimization failed to converge. Check mle_retvals\n",
      "  warnings.warn(\"Maximum Likelihood optimization failed to \"\n"
     ]
    },
    {
     "name": "stdout",
     "output_type": "stream",
     "text": [
      "edx-requirements-bot 15T 96\n"
     ]
    },
    {
     "name": "stderr",
     "output_type": "stream",
     "text": [
      "/Library/Frameworks/Python.framework/Versions/3.11/lib/python3.11/site-packages/statsmodels/tsa/statespace/sarimax.py:866: UserWarning: Too few observations to estimate starting parameters for seasonal ARMA. All parameters except for variances will be set to zeros.\n",
      "  warn('Too few observations to estimate starting parameters%s.'\n"
     ]
    },
    {
     "name": "stdout",
     "output_type": "stream",
     "text": [
      "edx-transifex-bot 1H 24\n",
      "elife-bot 20T 72\n",
      "engine-flutter-autoroll 20T 72\n"
     ]
    },
    {
     "name": "stderr",
     "output_type": "stream",
     "text": [
      "/Library/Frameworks/Python.framework/Versions/3.11/lib/python3.11/site-packages/statsmodels/tsa/statespace/sarimax.py:1009: UserWarning: Non-invertible starting seasonal moving average Using zeros as starting parameters.\n",
      "  warn('Non-invertible starting seasonal moving average'\n"
     ]
    },
    {
     "name": "stdout",
     "output_type": "stream",
     "text": [
      "fire-bot 4H 6\n",
      "flinkbot 20T 72\n",
      "fluttergithubbot 30T 48\n",
      "forking-renovate[bot] 30T 48\n",
      "fossabot 1H 24\n",
      "garybot2 4H 6\n",
      "gatsby-cloud[bot] 20T 72\n",
      "getsentry-bot 1H 24\n",
      "gitguardian[bot] 10T 144\n"
     ]
    },
    {
     "name": "stderr",
     "output_type": "stream",
     "text": [
      "/Library/Frameworks/Python.framework/Versions/3.11/lib/python3.11/site-packages/statsmodels/tsa/statespace/sarimax.py:866: UserWarning: Too few observations to estimate starting parameters for seasonal ARMA. All parameters except for variances will be set to zeros.\n",
      "  warn('Too few observations to estimate starting parameters%s.'\n"
     ]
    },
    {
     "name": "stdout",
     "output_type": "stream",
     "text": [
      "gitpod-io[bot] 30T 48\n",
      "google-ml-butler[bot] 1H 24\n",
      "google-oss-bot 20T 72\n",
      "graalvmbot 20T 72\n",
      "graviteeio 30T 48\n",
      "guardrails[bot] 30T 48\n",
      "hashicorp-cla 1H 24\n",
      "hasura-bot 1H 24\n",
      "hft-team-city 1H 24\n",
      "ibmdotcom-bot 1H 24\n"
     ]
    },
    {
     "name": "stderr",
     "output_type": "stream",
     "text": [
      "/Library/Frameworks/Python.framework/Versions/3.11/lib/python3.11/site-packages/statsmodels/tsa/statespace/sarimax.py:978: UserWarning: Non-invertible starting MA parameters found. Using zeros as starting parameters.\n",
      "  warn('Non-invertible starting MA parameters found.'\n"
     ]
    },
    {
     "name": "stdout",
     "output_type": "stream",
     "text": [
      "ionitron-bot[bot] 3H 8\n",
      "istio-policy-bot 1H 24\n",
      "jbosstm-bot 2H 12\n",
      "jenkins-x-bot-test 6H 4\n",
      "jetstack-bot 30T 48\n",
      "jitsi-jenkins 30T 48\n"
     ]
    },
    {
     "name": "stderr",
     "output_type": "stream",
     "text": [
      "/Library/Frameworks/Python.framework/Versions/3.11/lib/python3.11/site-packages/statsmodels/tsa/statespace/sarimax.py:978: UserWarning: Non-invertible starting MA parameters found. Using zeros as starting parameters.\n",
      "  warn('Non-invertible starting MA parameters found.'\n"
     ]
    },
    {
     "name": "stdout",
     "output_type": "stream",
     "text": [
      "johnpbloch-bot 2H 12\n",
      "jujubot 4H 6\n",
      "knative-prow-robot 3H 8\n",
      "ks-ci-bot 1H 24\n",
      "kubevirt-commenter-bot 1H 24\n",
      "lgtm-com[bot] 4T 360\n",
      "lingohub[bot] 2H 12\n",
      "linux-foundation-easycla[bot] 30T 48\n",
      "livingdocs-automation 1H 24\n",
      "mender-test-bot 1H 24\n",
      "metal3-io-bot 30T 48\n",
      "metamaskbot 30T 48\n",
      "minikube-bot 2H 12\n",
      "minikube-pr-bot 3H 8\n",
      "minio-trusted 1H 24\n",
      "miss-islington 1H 24\n",
      "mister-roboto 1H 24\n",
      "mm-cloud-bot 30T 48\n",
      "moz-wptsync-bot 1H 24\n",
      "mumukibot 12T 120\n"
     ]
    },
    {
     "name": "stderr",
     "output_type": "stream",
     "text": [
      "/Library/Frameworks/Python.framework/Versions/3.11/lib/python3.11/site-packages/statsmodels/tsa/statespace/sarimax.py:866: UserWarning: Too few observations to estimate starting parameters for seasonal ARMA. All parameters except for variances will be set to zeros.\n",
      "  warn('Too few observations to estimate starting parameters%s.'\n",
      "/Library/Frameworks/Python.framework/Versions/3.11/lib/python3.11/site-packages/statsmodels/base/model.py:607: ConvergenceWarning: Maximum Likelihood optimization failed to converge. Check mle_retvals\n",
      "  warnings.warn(\"Maximum Likelihood optimization failed to \"\n"
     ]
    },
    {
     "name": "stdout",
     "output_type": "stream",
     "text": [
      "nacho-bot 1H 24\n",
      "neos-bot 3H 8\n",
      "netkan-bot 1H 24\n",
      "nextcloud-bot 20T 72\n"
     ]
    },
    {
     "name": "stderr",
     "output_type": "stream",
     "text": [
      "/Library/Frameworks/Python.framework/Versions/3.11/lib/python3.11/site-packages/statsmodels/tsa/statespace/sarimax.py:1009: UserWarning: Non-invertible starting seasonal moving average Using zeros as starting parameters.\n",
      "  warn('Non-invertible starting seasonal moving average'\n"
     ]
    },
    {
     "name": "stdout",
     "output_type": "stream",
     "text": [
      "ninjadotorg-bot 1H 24\n",
      "niveristand-diff-bot 30T 48\n",
      "nodebb-misty 4H 6\n",
      "nodejs-github-bot 20T 72\n",
      "nur-bot 30T 48\n",
      "octokit-fixture-user-a 30T 48\n",
      "octokitbot 1H 24\n",
      "oll-bot 1H 24\n",
      "openhab-bot 20T 72\n",
      "openshift-cherrypick-robot 4T 360\n",
      "openssl-machine 1H 24\n",
      "pantheon-ci-bot 1H 24\n",
      "pdfjsbot 1H 24\n",
      "pirate-bot 1H 24\n",
      "pivotal-cla 4H 6\n",
      "pytorchbot 1H 24\n",
      "qmk-bot 1H 24\n",
      "r-ryantm 4T 360\n",
      "release-drafter[bot] 3H 8\n",
      "renovate-approve-2[bot] 3T 480\n",
      "repo-ranger[bot] 30T 48\n",
      "restyled-io[bot] 1T 1440\n",
      "review-notebook-app[bot] 20T 72\n",
      "robot-clickhouse 1H 24\n",
      "rultor 20T 72\n"
     ]
    },
    {
     "name": "stderr",
     "output_type": "stream",
     "text": [
      "/Library/Frameworks/Python.framework/Versions/3.11/lib/python3.11/site-packages/statsmodels/tsa/statespace/sarimax.py:1009: UserWarning: Non-invertible starting seasonal moving average Using zeros as starting parameters.\n",
      "  warn('Non-invertible starting seasonal moving average'\n",
      "/Library/Frameworks/Python.framework/Versions/3.11/lib/python3.11/site-packages/statsmodels/base/model.py:607: ConvergenceWarning: Maximum Likelihood optimization failed to converge. Check mle_retvals\n",
      "  warnings.warn(\"Maximum Likelihood optimization failed to \"\n"
     ]
    },
    {
     "name": "stdout",
     "output_type": "stream",
     "text": [
      "rust-timer 20T 72\n",
      "rustbot 30T 48\n",
      "sagemaker-bot 20T 72\n",
      "salesforce-cla[bot] 4H 6\n",
      "scrutinizer-notifier 1H 24\n",
      "sentry-io[bot] 1H 24\n",
      "similar-code-searcher[bot] 2H 12\n",
      "skia-flutter-autoroll 20T 72\n",
      "softwarefactory-project-zuul[bot] 30T 48\n",
      "soloio-bot 1H 24\n",
      "sourcegraph-bot 3T 480\n",
      "spinnakerbot 2H 12\n",
      "spring-builds 4H 6\n",
      "sprucelabs-ci 8T 168\n"
     ]
    },
    {
     "name": "stderr",
     "output_type": "stream",
     "text": [
      "/Library/Frameworks/Python.framework/Versions/3.11/lib/python3.11/site-packages/statsmodels/tsa/statespace/sarimax.py:866: UserWarning: Too few observations to estimate starting parameters for seasonal ARMA. All parameters except for variances will be set to zeros.\n",
      "  warn('Too few observations to estimate starting parameters%s.'\n"
     ]
    },
    {
     "name": "stdout",
     "output_type": "stream",
     "text": [
      "sre-bot 1H 24\n",
      "stakater-user 30T 48\n",
      "status-im-auto 30T 48\n",
      "submariner-bot 20T 72\n",
      "swift-ci 7T 192\n",
      "taichi-gardener 1H 24\n",
      "thundernest-bot 4H 6\n",
      "translatewiki 1H 24\n",
      "tykbot[bot] 3H 8\n",
      "usercont-release-bot 30T 48\n",
      "va-bot 3H 8\n",
      "vc-ci 20T 72\n"
     ]
    },
    {
     "name": "stderr",
     "output_type": "stream",
     "text": [
      "/Library/Frameworks/Python.framework/Versions/3.11/lib/python3.11/site-packages/statsmodels/base/model.py:607: ConvergenceWarning: Maximum Likelihood optimization failed to converge. Check mle_retvals\n",
      "  warnings.warn(\"Maximum Likelihood optimization failed to \"\n"
     ]
    },
    {
     "name": "stdout",
     "output_type": "stream",
     "text": [
      "violinist-bot 30T 48\n",
      "vmwclabot 1H 24\n",
      "vscode-issue-tracker-bot 30T 48\n",
      "vtex-io-ci-cd[bot] 1H 24\n",
      "vtex-io-docs-bot[bot] 2H 12\n",
      "welcome[bot] 20T 72\n",
      "wet-boew-bot 4H 6\n",
      "wso2-jenkins-bot 30T 48\n",
      "ADmad 3H 8\n",
      "Bernardo-MG 1H 24\n"
     ]
    },
    {
     "name": "stderr",
     "output_type": "stream",
     "text": [
      "/Library/Frameworks/Python.framework/Versions/3.11/lib/python3.11/site-packages/statsmodels/base/model.py:607: ConvergenceWarning: Maximum Likelihood optimization failed to converge. Check mle_retvals\n",
      "  warnings.warn(\"Maximum Likelihood optimization failed to \"\n"
     ]
    },
    {
     "name": "stdout",
     "output_type": "stream",
     "text": [
      "Gerrit0 4H 6\n",
      "Kikobeats 30T 48\n",
      "Kukks 1H 24\n",
      "LukeTowers 3H 8\n",
      "NathanWalker 2H 12\n",
      "Rotzbua 1H 24\n",
      "StevenMaude 1H 24\n",
      "Stranger6667 1H 24\n",
      "ababic 1H 24\n",
      "achingbrain 30T 48\n",
      "adamhsparks 1H 24\n",
      "alanhamlett 2H 12\n",
      "alexanderbez 1H 24\n",
      "althonos 2H 12\n",
      "am-kantox 4H 6\n",
      "andreubotella 3H 8\n",
      "anthrotype 30T 48\n",
      "antonmedv 1H 24\n",
      "azat 1H 24\n",
      "bendrucker 2H 12\n",
      "betatim 1H 24\n",
      "bluca 30T 48\n",
      "bradymholt 3H 8\n",
      "cboettig 1H 24\n",
      "cchantep 2H 12\n",
      "cdepillabout 4H 6\n",
      "chalin 30T 48\n",
      "codebytere 1H 24\n",
      "daffl 1H 24\n",
      "dantleech 1H 24\n",
      "darrachequesne 1H 24\n",
      "davidv1992 2H 12\n",
      "dbaeumer 1H 24\n",
      "dbu 1H 24\n"
     ]
    },
    {
     "name": "stderr",
     "output_type": "stream",
     "text": [
      "/Library/Frameworks/Python.framework/Versions/3.11/lib/python3.11/site-packages/statsmodels/tsa/statespace/sarimax.py:978: UserWarning: Non-invertible starting MA parameters found. Using zeros as starting parameters.\n",
      "  warn('Non-invertible starting MA parameters found.'\n"
     ]
    },
    {
     "name": "stdout",
     "output_type": "stream",
     "text": [
      "dbwiddis 30T 48\n",
      "dereuromark 1H 24\n",
      "dmage 3H 8\n",
      "dpvc 1H 24\n",
      "edsu 2H 12\n",
      "eduardo-rodrigues 3H 8\n",
      "ekohl 30T 48\n",
      "ericholscher 1H 24\n",
      "ericsoderberghp 1H 24\n",
      "fax4ever 4H 6\n"
     ]
    },
    {
     "name": "stderr",
     "output_type": "stream",
     "text": [
      "/Library/Frameworks/Python.framework/Versions/3.11/lib/python3.11/site-packages/statsmodels/tsa/statespace/sarimax.py:978: UserWarning: Non-invertible starting MA parameters found. Using zeros as starting parameters.\n",
      "  warn('Non-invertible starting MA parameters found.'\n"
     ]
    },
    {
     "name": "stdout",
     "output_type": "stream",
     "text": [
      "gregturn 1H 24\n",
      "gsmet 30T 48\n",
      "istarkov 1H 24\n",
      "jacogr 30T 48\n",
      "jakirkham 1H 24\n",
      "jaraco 1H 24\n",
      "jaredallard 1H 24\n",
      "jennybc 1H 24\n",
      "jeremyf 1H 24\n",
      "kaczmarj 1H 24\n",
      "keithamus 1H 24\n",
      "kitten 30T 48\n",
      "leleuj 1H 24\n",
      "lirantal 1H 24\n",
      "ljharb 30T 48\n",
      "llvm-beanz 3H 8\n",
      "lmangani 1H 24\n",
      "lukasgraf 1H 24\n",
      "maraino 1H 24\n",
      "markets 2H 12\n",
      "martinRenou 1H 24\n",
      "matthewp 1H 24\n",
      "mattstauffer 1H 24\n",
      "medikoo 30T 48\n",
      "mmstick 1H 24\n",
      "mnapoli 1H 24\n",
      "mvz 3H 8\n",
      "nblumhardt 4H 6\n",
      "nicoddemus 1H 24\n",
      "nikku 1H 24\n",
      "norkans7 2H 12\n",
      "nytamin 4H 6\n",
      "p0nce 2H 12\n",
      "parlough 30T 48\n",
      "paulfalgout 1H 24\n",
      "petemoore 2H 12\n",
      "petersilva 4H 6\n",
      "phax 1H 24\n",
      "philippfromme 3H 8\n",
      "raphaelm 1H 24\n",
      "rasheedamir 4H 6\n"
     ]
    },
    {
     "name": "stderr",
     "output_type": "stream",
     "text": [
      "/Library/Frameworks/Python.framework/Versions/3.11/lib/python3.11/site-packages/statsmodels/tsa/statespace/sarimax.py:978: UserWarning: Non-invertible starting MA parameters found. Using zeros as starting parameters.\n",
      "  warn('Non-invertible starting MA parameters found.'\n"
     ]
    },
    {
     "name": "stdout",
     "output_type": "stream",
     "text": [
      "reckart 1H 24\n",
      "rixx 3H 8\n",
      "rminnich 3H 8\n",
      "seratch 1H 24\n",
      "sfackler 3H 8\n",
      "shawnbot 4H 6\n",
      "snakefoot 1H 24\n",
      "sonnyp 1H 24\n",
      "sserrata 1H 24\n",
      "staltz 1H 24\n",
      "stapelberg 1H 24\n",
      "suzuki-shunsuke 20T 72\n"
     ]
    },
    {
     "name": "stderr",
     "output_type": "stream",
     "text": [
      "/Library/Frameworks/Python.framework/Versions/3.11/lib/python3.11/site-packages/statsmodels/tsa/statespace/sarimax.py:978: UserWarning: Non-invertible starting MA parameters found. Using zeros as starting parameters.\n",
      "  warn('Non-invertible starting MA parameters found.'\n",
      "/Library/Frameworks/Python.framework/Versions/3.11/lib/python3.11/site-packages/statsmodels/tsa/statespace/sarimax.py:1009: UserWarning: Non-invertible starting seasonal moving average Using zeros as starting parameters.\n",
      "  warn('Non-invertible starting seasonal moving average'\n"
     ]
    },
    {
     "name": "stdout",
     "output_type": "stream",
     "text": [
      "techknowlogick 30T 48\n",
      "tibetsprague 2H 12\n",
      "timja 30T 48\n",
      "tommoor 1H 24\n"
     ]
    },
    {
     "name": "stderr",
     "output_type": "stream",
     "text": [
      "/Library/Frameworks/Python.framework/Versions/3.11/lib/python3.11/site-packages/statsmodels/base/model.py:607: ConvergenceWarning: Maximum Likelihood optimization failed to converge. Check mle_retvals\n",
      "  warnings.warn(\"Maximum Likelihood optimization failed to \"\n"
     ]
    },
    {
     "name": "stdout",
     "output_type": "stream",
     "text": [
      "tschaub 2H 12\n",
      "twiecki 3H 8\n",
      "tychoish 2H 12\n"
     ]
    },
    {
     "name": "stderr",
     "output_type": "stream",
     "text": [
      "/Library/Frameworks/Python.framework/Versions/3.11/lib/python3.11/site-packages/statsmodels/base/model.py:607: ConvergenceWarning: Maximum Likelihood optimization failed to converge. Check mle_retvals\n",
      "  warnings.warn(\"Maximum Likelihood optimization failed to \"\n"
     ]
    },
    {
     "name": "stdout",
     "output_type": "stream",
     "text": [
      "ueokande 1H 24\n",
      "unknwon 30T 48\n",
      "vasturiano 8T 168\n"
     ]
    },
    {
     "name": "stderr",
     "output_type": "stream",
     "text": [
      "/Library/Frameworks/Python.framework/Versions/3.11/lib/python3.11/site-packages/statsmodels/tsa/statespace/sarimax.py:978: UserWarning: Non-invertible starting MA parameters found. Using zeros as starting parameters.\n",
      "  warn('Non-invertible starting MA parameters found.'\n",
      "/Library/Frameworks/Python.framework/Versions/3.11/lib/python3.11/site-packages/statsmodels/tsa/statespace/sarimax.py:866: UserWarning: Too few observations to estimate starting parameters for seasonal ARMA. All parameters except for variances will be set to zeros.\n",
      "  warn('Too few observations to estimate starting parameters%s.'\n",
      "/Library/Frameworks/Python.framework/Versions/3.11/lib/python3.11/site-packages/statsmodels/base/model.py:607: ConvergenceWarning: Maximum Likelihood optimization failed to converge. Check mle_retvals\n",
      "  warnings.warn(\"Maximum Likelihood optimization failed to \"\n"
     ]
    },
    {
     "name": "stdout",
     "output_type": "stream",
     "text": [
      "visualfc 1H 24\n",
      "vmarkovtsev 30T 48\n",
      "yajra 2H 12\n",
      "yowainwright 1H 24\n",
      "yuce 1H 24\n",
      "yurishkuro 30T 48\n"
     ]
    }
   ],
   "source": [
    "sarima_results = data.groupby(['category', 'contributor']).apply(sarima_model).reset_index(drop=True)"
   ]
  },
  {
   "cell_type": "code",
   "execution_count": 20,
   "metadata": {},
   "outputs": [],
   "source": [
    "sarima_results.to_csv('../models-evaluation/sarima_model-mean-v1.csv', index=False)"
   ]
  },
  {
   "cell_type": "markdown",
   "metadata": {},
   "source": [
    "# Unobserved components model"
   ]
  },
  {
   "cell_type": "code",
   "execution_count": 21,
   "metadata": {},
   "outputs": [],
   "source": [
    "def uc_model(contributor):\n",
    "\n",
    "    contributor_name = contributor['contributor'].iloc[0]\n",
    "    contributor_category = contributor['category'].iloc[0]\n",
    "\n",
    "    frequency = mean_based_frequency(contributor)\n",
    "    seasonality = frequency_to_seasonality(frequency)\n",
    "\n",
    "    train, test = split_activities(contributor, frequency)\n",
    "\n",
    "    print(contributor_name, frequency, seasonality)\n",
    "\n",
    "    # choosing best parameters (possible seasonality)\n",
    "    if (len(train)//seasonality) < 2:\n",
    "        seasonality = None\n",
    "\n",
    "    model = UnobservedComponents(\n",
    "        train['n_activities'], \n",
    "        level = True, \n",
    "        seasonal = seasonality\n",
    "        ).fit(disp=False, method='lbfgs')\n",
    "    \n",
    "    # Forecast the test set using confidence interval with 95%\n",
    "    predictions = model.get_prediction(start=len(train), end=len(train)+len(test)-1).summary_frame(alpha=0.05)\n",
    "\n",
    "    metrics = pd.Series({\n",
    "        'contributor': contributor_name,\n",
    "        'category': contributor_category,\n",
    "        'r2': r2_score(test['n_activities'], predictions['mean']),\n",
    "        'mae': mean_absolute_error(test['n_activities'], predictions['mean']),\n",
    "        'ctd_100': ctd_score(test['n_activities'], predictions['mean'], 100),\n",
    "        'ctd_200': ctd_score(test['n_activities'], predictions['mean'], 200),\n",
    "        'ctd_300': ctd_score(test['n_activities'], predictions['mean'], 300),\n",
    "        'n_activities': train['n_activities'].sum(),\n",
    "        'frequency': frequency,\n",
    "        'seasonality':seasonality,\n",
    "        'data_points':len(train),\n",
    "    })\n",
    "\n",
    "    return metrics"
   ]
  },
  {
   "cell_type": "code",
   "execution_count": 22,
   "metadata": {},
   "outputs": [
    {
     "name": "stdout",
     "output_type": "stream",
     "text": [
      "0crat 1H 24\n",
      "AppVeyorBot 1H 24\n",
      "Code-Inside-Bot 1H 24\n",
      "CrowdinBot 1H 24\n",
      "DrahtBot 1H 24\n",
      "PJBot 4H 6\n",
      "addonsbot 4H 6\n",
      "adobe-bot 3T 480\n",
      "agones-bot 1H 24\n"
     ]
    },
    {
     "name": "stderr",
     "output_type": "stream",
     "text": [
      "/Library/Frameworks/Python.framework/Versions/3.11/lib/python3.11/site-packages/statsmodels/tsa/statespace/structural.py:508: SpecificationWarning: Specified model does not contain a stochastic element; irregular component added.\n",
      "  warn(\"Specified model does not contain a stochastic element;\"\n"
     ]
    },
    {
     "name": "stdout",
     "output_type": "stream",
     "text": [
      "alluxio-bot 2H 12\n",
      "analysis-bot 3H 8\n",
      "angular-automatic-lock-bot[bot] 30T 48\n",
      "ansibot 2H 12\n",
      "apmmachine 20T 72\n",
      "aporeto-bot 1H 24\n",
      "aws-cdk-automation 3T 480\n",
      "backportbot-nextcloud[bot] 30T 48\n"
     ]
    },
    {
     "name": "stderr",
     "output_type": "stream",
     "text": [
      "/Library/Frameworks/Python.framework/Versions/3.11/lib/python3.11/site-packages/statsmodels/tsa/statespace/structural.py:508: SpecificationWarning: Specified model does not contain a stochastic element; irregular component added.\n",
      "  warn(\"Specified model does not contain a stochastic element;\"\n"
     ]
    },
    {
     "name": "stdout",
     "output_type": "stream",
     "text": [
      "ballerina-bot 10T 144\n",
      "bedevere-bot 1H 24\n",
      "bits-bot 3H 8\n",
      "blathers-crl[bot] 7T 192\n",
      "bluespice-github-bot 1H 24\n"
     ]
    },
    {
     "name": "stderr",
     "output_type": "stream",
     "text": [
      "/Library/Frameworks/Python.framework/Versions/3.11/lib/python3.11/site-packages/statsmodels/tsa/statespace/structural.py:508: SpecificationWarning: Specified model does not contain a stochastic element; irregular component added.\n",
      "  warn(\"Specified model does not contain a stochastic element;\"\n"
     ]
    },
    {
     "name": "stdout",
     "output_type": "stream",
     "text": [
      "boring-cyborg[bot] 1H 24\n",
      "bors-servo 30T 48\n",
      "bot-gradle 20T 72\n",
      "carsonbot 4H 6\n",
      "cf-gitbot 30T 48\n",
      "cheminfo-bot 1H 24\n",
      "cla-bot[bot] 30T 48\n",
      "cmsdmwmbot 4H 6\n",
      "codeclimate[bot] 2T 720\n",
      "codesandbox[bot] 8T 168\n"
     ]
    },
    {
     "name": "stderr",
     "output_type": "stream",
     "text": [
      "/Library/Frameworks/Python.framework/Versions/3.11/lib/python3.11/site-packages/statsmodels/tsa/statespace/structural.py:508: SpecificationWarning: Specified model does not contain a stochastic element; irregular component added.\n",
      "  warn(\"Specified model does not contain a stochastic element;\"\n"
     ]
    },
    {
     "name": "stdout",
     "output_type": "stream",
     "text": [
      "confs-tech-bot 1H 24\n",
      "cozy-bot 1H 24\n",
      "cypress-bot[bot] 1H 24\n",
      "delete-merged-branch[bot] 4T 360\n",
      "devOpsHazelcast 30T 48\n"
     ]
    },
    {
     "name": "stderr",
     "output_type": "stream",
     "text": [
      "/Library/Frameworks/Python.framework/Versions/3.11/lib/python3.11/site-packages/statsmodels/tsa/statespace/structural.py:508: SpecificationWarning: Specified model does not contain a stochastic element; irregular component added.\n",
      "  warn(\"Specified model does not contain a stochastic element;\"\n"
     ]
    },
    {
     "name": "stdout",
     "output_type": "stream",
     "text": [
      "dlang-bot 2H 12\n",
      "docker-library-bot 30T 48\n",
      "dontcallmedom-bot 1H 24\n",
      "dotnet-bot 15T 96\n",
      "dotnet-issue-labeler[bot] 1H 24\n",
      "dotnet-maestro-bot 1H 24\n",
      "edx-requirements-bot 15T 96\n",
      "edx-transifex-bot 1H 24\n",
      "elife-bot 20T 72\n",
      "engine-flutter-autoroll 20T 72\n",
      "fire-bot 4H 6\n",
      "flinkbot 20T 72\n",
      "fluttergithubbot 30T 48\n",
      "forking-renovate[bot] 30T 48\n",
      "fossabot 1H 24\n",
      "garybot2 4H 6\n",
      "gatsby-cloud[bot] 20T 72\n",
      "getsentry-bot 1H 24\n",
      "gitguardian[bot] 10T 144\n",
      "gitpod-io[bot] 30T 48\n",
      "google-ml-butler[bot] 1H 24\n",
      "google-oss-bot 20T 72\n",
      "graalvmbot 20T 72\n",
      "graviteeio 30T 48\n",
      "guardrails[bot] 30T 48\n",
      "hashicorp-cla 1H 24\n",
      "hasura-bot 1H 24\n",
      "hft-team-city 1H 24\n",
      "ibmdotcom-bot 1H 24\n",
      "ionitron-bot[bot] 3H 8\n",
      "istio-policy-bot 1H 24\n",
      "jbosstm-bot 2H 12\n",
      "jenkins-x-bot-test 6H 4\n",
      "jetstack-bot 30T 48\n",
      "jitsi-jenkins 30T 48\n",
      "johnpbloch-bot 2H 12\n",
      "jujubot 4H 6\n",
      "knative-prow-robot 3H 8\n",
      "ks-ci-bot 1H 24\n",
      "kubevirt-commenter-bot 1H 24\n",
      "lgtm-com[bot] 4T 360\n"
     ]
    },
    {
     "name": "stderr",
     "output_type": "stream",
     "text": [
      "/Library/Frameworks/Python.framework/Versions/3.11/lib/python3.11/site-packages/statsmodels/tsa/statespace/structural.py:508: SpecificationWarning: Specified model does not contain a stochastic element; irregular component added.\n",
      "  warn(\"Specified model does not contain a stochastic element;\"\n"
     ]
    },
    {
     "name": "stdout",
     "output_type": "stream",
     "text": [
      "lingohub[bot] 2H 12\n",
      "linux-foundation-easycla[bot] 30T 48\n",
      "livingdocs-automation 1H 24\n",
      "mender-test-bot 1H 24\n",
      "metal3-io-bot 30T 48\n",
      "metamaskbot 30T 48\n",
      "minikube-bot 2H 12\n",
      "minikube-pr-bot 3H 8\n",
      "minio-trusted 1H 24\n",
      "miss-islington 1H 24\n",
      "mister-roboto 1H 24\n",
      "mm-cloud-bot 30T 48\n",
      "moz-wptsync-bot 1H 24\n",
      "mumukibot 12T 120\n",
      "nacho-bot 1H 24\n",
      "neos-bot 3H 8\n",
      "netkan-bot 1H 24\n",
      "nextcloud-bot 20T 72\n",
      "ninjadotorg-bot 1H 24\n",
      "niveristand-diff-bot 30T 48\n",
      "nodebb-misty 4H 6\n",
      "nodejs-github-bot 20T 72\n",
      "nur-bot 30T 48\n",
      "octokit-fixture-user-a 30T 48\n",
      "octokitbot 1H 24\n",
      "oll-bot 1H 24\n",
      "openhab-bot 20T 72\n",
      "openshift-cherrypick-robot 4T 360\n",
      "openssl-machine 1H 24\n"
     ]
    },
    {
     "name": "stderr",
     "output_type": "stream",
     "text": [
      "/Library/Frameworks/Python.framework/Versions/3.11/lib/python3.11/site-packages/statsmodels/tsa/statespace/structural.py:508: SpecificationWarning: Specified model does not contain a stochastic element; irregular component added.\n",
      "  warn(\"Specified model does not contain a stochastic element;\"\n"
     ]
    },
    {
     "name": "stdout",
     "output_type": "stream",
     "text": [
      "pantheon-ci-bot 1H 24\n",
      "pdfjsbot 1H 24\n",
      "pirate-bot 1H 24\n",
      "pivotal-cla 4H 6\n",
      "pytorchbot 1H 24\n",
      "qmk-bot 1H 24\n",
      "r-ryantm 4T 360\n",
      "release-drafter[bot] 3H 8\n",
      "renovate-approve-2[bot] 3T 480\n",
      "repo-ranger[bot] 30T 48\n"
     ]
    },
    {
     "name": "stderr",
     "output_type": "stream",
     "text": [
      "/Library/Frameworks/Python.framework/Versions/3.11/lib/python3.11/site-packages/statsmodels/tsa/statespace/structural.py:508: SpecificationWarning: Specified model does not contain a stochastic element; irregular component added.\n",
      "  warn(\"Specified model does not contain a stochastic element;\"\n",
      "/Library/Frameworks/Python.framework/Versions/3.11/lib/python3.11/site-packages/statsmodels/tsa/statespace/structural.py:508: SpecificationWarning: Specified model does not contain a stochastic element; irregular component added.\n",
      "  warn(\"Specified model does not contain a stochastic element;\"\n"
     ]
    },
    {
     "name": "stdout",
     "output_type": "stream",
     "text": [
      "restyled-io[bot] 1T 1440\n",
      "review-notebook-app[bot] 20T 72\n"
     ]
    },
    {
     "name": "stderr",
     "output_type": "stream",
     "text": [
      "/Library/Frameworks/Python.framework/Versions/3.11/lib/python3.11/site-packages/statsmodels/tsa/statespace/structural.py:508: SpecificationWarning: Specified model does not contain a stochastic element; irregular component added.\n",
      "  warn(\"Specified model does not contain a stochastic element;\"\n"
     ]
    },
    {
     "name": "stdout",
     "output_type": "stream",
     "text": [
      "robot-clickhouse 1H 24\n",
      "rultor 20T 72\n",
      "rust-timer 20T 72\n",
      "rustbot 30T 48\n",
      "sagemaker-bot 20T 72\n",
      "salesforce-cla[bot] 4H 6\n",
      "scrutinizer-notifier 1H 24\n",
      "sentry-io[bot] 1H 24\n",
      "similar-code-searcher[bot] 2H 12\n",
      "skia-flutter-autoroll 20T 72\n",
      "softwarefactory-project-zuul[bot] 30T 48\n",
      "soloio-bot 1H 24\n",
      "sourcegraph-bot 3T 480\n"
     ]
    },
    {
     "name": "stderr",
     "output_type": "stream",
     "text": [
      "/Library/Frameworks/Python.framework/Versions/3.11/lib/python3.11/site-packages/statsmodels/tsa/statespace/structural.py:508: SpecificationWarning: Specified model does not contain a stochastic element; irregular component added.\n",
      "  warn(\"Specified model does not contain a stochastic element;\"\n"
     ]
    },
    {
     "name": "stdout",
     "output_type": "stream",
     "text": [
      "spinnakerbot 2H 12\n",
      "spring-builds 4H 6\n",
      "sprucelabs-ci 8T 168\n",
      "sre-bot 1H 24\n",
      "stakater-user 30T 48\n",
      "status-im-auto 30T 48\n",
      "submariner-bot 20T 72\n",
      "swift-ci 7T 192\n",
      "taichi-gardener 1H 24\n"
     ]
    },
    {
     "name": "stderr",
     "output_type": "stream",
     "text": [
      "/Library/Frameworks/Python.framework/Versions/3.11/lib/python3.11/site-packages/statsmodels/tsa/statespace/structural.py:508: SpecificationWarning: Specified model does not contain a stochastic element; irregular component added.\n",
      "  warn(\"Specified model does not contain a stochastic element;\"\n"
     ]
    },
    {
     "name": "stdout",
     "output_type": "stream",
     "text": [
      "thundernest-bot 4H 6\n",
      "translatewiki 1H 24\n",
      "tykbot[bot] 3H 8\n",
      "usercont-release-bot 30T 48\n",
      "va-bot 3H 8\n",
      "vc-ci 20T 72\n",
      "violinist-bot 30T 48\n",
      "vmwclabot 1H 24\n",
      "vscode-issue-tracker-bot 30T 48\n"
     ]
    },
    {
     "name": "stderr",
     "output_type": "stream",
     "text": [
      "/Library/Frameworks/Python.framework/Versions/3.11/lib/python3.11/site-packages/statsmodels/base/model.py:607: ConvergenceWarning: Maximum Likelihood optimization failed to converge. Check mle_retvals\n",
      "  warnings.warn(\"Maximum Likelihood optimization failed to \"\n"
     ]
    },
    {
     "name": "stdout",
     "output_type": "stream",
     "text": [
      "vtex-io-ci-cd[bot] 1H 24\n",
      "vtex-io-docs-bot[bot] 2H 12\n",
      "welcome[bot] 20T 72\n",
      "wet-boew-bot 4H 6\n",
      "wso2-jenkins-bot 30T 48\n",
      "ADmad 3H 8\n",
      "Bernardo-MG 1H 24\n",
      "Gerrit0 4H 6\n",
      "Kikobeats 30T 48\n",
      "Kukks 1H 24\n",
      "LukeTowers 3H 8\n",
      "NathanWalker 2H 12\n",
      "Rotzbua 1H 24\n",
      "StevenMaude 1H 24\n",
      "Stranger6667 1H 24\n",
      "ababic 1H 24\n",
      "achingbrain 30T 48\n",
      "adamhsparks 1H 24\n",
      "alanhamlett 2H 12\n",
      "alexanderbez 1H 24\n",
      "althonos 2H 12\n",
      "am-kantox 4H 6\n",
      "andreubotella 3H 8\n",
      "anthrotype 30T 48\n",
      "antonmedv 1H 24\n",
      "azat 1H 24\n",
      "bendrucker 2H 12\n",
      "betatim 1H 24\n",
      "bluca 30T 48\n",
      "bradymholt 3H 8\n",
      "cboettig 1H 24\n",
      "cchantep 2H 12\n",
      "cdepillabout 4H 6\n",
      "chalin 30T 48\n",
      "codebytere 1H 24\n",
      "daffl 1H 24\n",
      "dantleech 1H 24\n",
      "darrachequesne 1H 24\n",
      "davidv1992 2H 12\n",
      "dbaeumer 1H 24\n",
      "dbu 1H 24\n",
      "dbwiddis 30T 48\n",
      "dereuromark 1H 24\n",
      "dmage 3H 8\n",
      "dpvc 1H 24\n",
      "edsu 2H 12\n",
      "eduardo-rodrigues 3H 8\n",
      "ekohl 30T 48\n",
      "ericholscher 1H 24\n",
      "ericsoderberghp 1H 24\n",
      "fax4ever 4H 6\n",
      "gregturn 1H 24\n",
      "gsmet 30T 48\n",
      "istarkov 1H 24\n",
      "jacogr 30T 48\n",
      "jakirkham 1H 24\n",
      "jaraco 1H 24\n",
      "jaredallard 1H 24\n",
      "jennybc 1H 24\n",
      "jeremyf 1H 24\n",
      "kaczmarj 1H 24\n",
      "keithamus 1H 24\n",
      "kitten 30T 48\n",
      "leleuj 1H 24\n",
      "lirantal 1H 24\n",
      "ljharb 30T 48\n",
      "llvm-beanz 3H 8\n",
      "lmangani 1H 24\n",
      "lukasgraf 1H 24\n",
      "maraino 1H 24\n",
      "markets 2H 12\n",
      "martinRenou 1H 24\n",
      "matthewp 1H 24\n",
      "mattstauffer 1H 24\n",
      "medikoo 30T 48\n",
      "mmstick 1H 24\n",
      "mnapoli 1H 24\n",
      "mvz 3H 8\n",
      "nblumhardt 4H 6\n",
      "nicoddemus 1H 24\n",
      "nikku 1H 24\n",
      "norkans7 2H 12\n",
      "nytamin 4H 6\n",
      "p0nce 2H 12\n",
      "parlough 30T 48\n",
      "paulfalgout 1H 24\n",
      "petemoore 2H 12\n",
      "petersilva 4H 6\n",
      "phax 1H 24\n",
      "philippfromme 3H 8\n",
      "raphaelm 1H 24\n",
      "rasheedamir 4H 6\n",
      "reckart 1H 24\n",
      "rixx 3H 8\n",
      "rminnich 3H 8\n",
      "seratch 1H 24\n",
      "sfackler 3H 8\n",
      "shawnbot 4H 6\n",
      "snakefoot 1H 24\n",
      "sonnyp 1H 24\n",
      "sserrata 1H 24\n",
      "staltz 1H 24\n",
      "stapelberg 1H 24\n",
      "suzuki-shunsuke 20T 72\n",
      "techknowlogick 30T 48\n",
      "tibetsprague 2H 12\n",
      "timja 30T 48\n",
      "tommoor 1H 24\n",
      "tschaub 2H 12\n",
      "twiecki 3H 8\n",
      "tychoish 2H 12\n",
      "ueokande 1H 24\n",
      "unknwon 30T 48\n",
      "vasturiano 8T 168\n",
      "visualfc 1H 24\n",
      "vmarkovtsev 30T 48\n",
      "yajra 2H 12\n",
      "yowainwright 1H 24\n",
      "yuce 1H 24\n",
      "yurishkuro 30T 48\n"
     ]
    }
   ],
   "source": [
    "uc_results = data.groupby(['category', 'contributor']).apply(uc_model).reset_index(drop=True)"
   ]
  },
  {
   "cell_type": "code",
   "execution_count": 23,
   "metadata": {},
   "outputs": [],
   "source": [
    "uc_results.to_csv('../models-evaluation/uc_model-mean-v1.csv', index=False)"
   ]
  },
  {
   "cell_type": "markdown",
   "metadata": {},
   "source": [
    "# Error Trend and Seasonality model"
   ]
  },
  {
   "cell_type": "code",
   "execution_count": 53,
   "metadata": {},
   "outputs": [],
   "source": [
    "def ets_model(contributor):\n",
    "\n",
    "    contributor_name = contributor['contributor'].iloc[0]\n",
    "    contributor_category = contributor['category'].iloc[0]\n",
    "\n",
    "    frequency = quantile_based_frequency(contributor, quantile=0.85)\n",
    "    seasonality = frequency_to_seasonality(frequency)\n",
    "\n",
    "    train, test = split_activities(contributor, frequency)\n",
    "\n",
    "    print(contributor_name, frequency, seasonality)\n",
    "\n",
    "    # choosing best parameters (possible seasonality)\n",
    "    if seasonality and (len(train)//seasonality) >= 2:\n",
    "        seasonal = 'add'\n",
    "    else:\n",
    "        seasonality = None\n",
    "        seasonal = None\n",
    "\n",
    "    model = ETSModel(\n",
    "        train['n_activities'], \n",
    "        error = 'add', \n",
    "        trend = 'add', \n",
    "        seasonal = seasonal, \n",
    "        seasonal_periods = seasonality\n",
    "    ).fit(disp=False)\n",
    "\n",
    "    # Forecast the test set using confidence interval with 95%\n",
    "    predictions = model.get_prediction(start=len(train), end=len(train)+len(test)-1).summary_frame(alpha=0.05)\n",
    "\n",
    "    metrics = pd.Series({\n",
    "        'contributor': contributor_name,\n",
    "        'category': contributor_category,\n",
    "        'r2': r2_score(test['n_activities'], predictions['mean']),\n",
    "        'mae': mean_absolute_error(test['n_activities'], predictions['mean']),\n",
    "        'ctd_100': ctd_score(test['n_activities'], predictions['mean'], 100),\n",
    "        'ctd_200': ctd_score(test['n_activities'], predictions['mean'], 200),\n",
    "        'ctd_300': ctd_score(test['n_activities'], predictions['mean'], 300),\n",
    "        'n_activities': train['n_activities'].sum(),\n",
    "        'frequency': frequency,\n",
    "        'seasonality':seasonality,\n",
    "        'data_points':len(train),\n",
    "    })\n",
    "\n",
    "    return metrics"
   ]
  },
  {
   "cell_type": "code",
   "execution_count": null,
   "metadata": {},
   "outputs": [],
   "source": [
    "ets_results = data.groupby(['category', 'contributor']).apply(ets_model).reset_index(drop=True)"
   ]
  },
  {
   "cell_type": "code",
   "execution_count": 51,
   "metadata": {},
   "outputs": [
    {
     "data": {
      "text/plain": [
       "'1H'"
      ]
     },
     "execution_count": 51,
     "metadata": {},
     "output_type": "execute_result"
    }
   ],
   "source": [
    "contributor = data[data['contributor'] == '0crat']\n",
    "frequency = quantile_based_frequency(contributor, quantile=0.85)\n",
    "frequency"
   ]
  },
  {
   "cell_type": "code",
   "execution_count": 52,
   "metadata": {},
   "outputs": [
    {
     "data": {
      "text/html": [
       "<div>\n",
       "<style scoped>\n",
       "    .dataframe tbody tr th:only-of-type {\n",
       "        vertical-align: middle;\n",
       "    }\n",
       "\n",
       "    .dataframe tbody tr th {\n",
       "        vertical-align: top;\n",
       "    }\n",
       "\n",
       "    .dataframe thead th {\n",
       "        text-align: right;\n",
       "    }\n",
       "</style>\n",
       "<table border=\"1\" class=\"dataframe\">\n",
       "  <thead>\n",
       "    <tr style=\"text-align: right;\">\n",
       "      <th></th>\n",
       "      <th>n_activities</th>\n",
       "    </tr>\n",
       "  </thead>\n",
       "  <tbody>\n",
       "    <tr>\n",
       "      <th>2022-12-13 12:00:00+00:00</th>\n",
       "      <td>1</td>\n",
       "    </tr>\n",
       "    <tr>\n",
       "      <th>2022-12-13 13:00:00+00:00</th>\n",
       "      <td>1</td>\n",
       "    </tr>\n",
       "    <tr>\n",
       "      <th>2022-12-13 14:00:00+00:00</th>\n",
       "      <td>0</td>\n",
       "    </tr>\n",
       "    <tr>\n",
       "      <th>2022-12-13 15:00:00+00:00</th>\n",
       "      <td>0</td>\n",
       "    </tr>\n",
       "    <tr>\n",
       "      <th>2022-12-13 16:00:00+00:00</th>\n",
       "      <td>3</td>\n",
       "    </tr>\n",
       "    <tr>\n",
       "      <th>2022-12-13 17:00:00+00:00</th>\n",
       "      <td>8</td>\n",
       "    </tr>\n",
       "    <tr>\n",
       "      <th>2022-12-13 18:00:00+00:00</th>\n",
       "      <td>2</td>\n",
       "    </tr>\n",
       "    <tr>\n",
       "      <th>2022-12-13 19:00:00+00:00</th>\n",
       "      <td>16</td>\n",
       "    </tr>\n",
       "    <tr>\n",
       "      <th>2022-12-13 20:00:00+00:00</th>\n",
       "      <td>3</td>\n",
       "    </tr>\n",
       "    <tr>\n",
       "      <th>2022-12-13 21:00:00+00:00</th>\n",
       "      <td>1</td>\n",
       "    </tr>\n",
       "    <tr>\n",
       "      <th>2022-12-13 22:00:00+00:00</th>\n",
       "      <td>2</td>\n",
       "    </tr>\n",
       "    <tr>\n",
       "      <th>2022-12-13 23:00:00+00:00</th>\n",
       "      <td>2</td>\n",
       "    </tr>\n",
       "    <tr>\n",
       "      <th>2022-12-14 00:00:00+00:00</th>\n",
       "      <td>1</td>\n",
       "    </tr>\n",
       "    <tr>\n",
       "      <th>2022-12-14 01:00:00+00:00</th>\n",
       "      <td>0</td>\n",
       "    </tr>\n",
       "    <tr>\n",
       "      <th>2022-12-14 02:00:00+00:00</th>\n",
       "      <td>0</td>\n",
       "    </tr>\n",
       "    <tr>\n",
       "      <th>2022-12-14 03:00:00+00:00</th>\n",
       "      <td>0</td>\n",
       "    </tr>\n",
       "    <tr>\n",
       "      <th>2022-12-14 04:00:00+00:00</th>\n",
       "      <td>0</td>\n",
       "    </tr>\n",
       "    <tr>\n",
       "      <th>2022-12-14 05:00:00+00:00</th>\n",
       "      <td>1</td>\n",
       "    </tr>\n",
       "    <tr>\n",
       "      <th>2022-12-14 06:00:00+00:00</th>\n",
       "      <td>0</td>\n",
       "    </tr>\n",
       "    <tr>\n",
       "      <th>2022-12-14 07:00:00+00:00</th>\n",
       "      <td>0</td>\n",
       "    </tr>\n",
       "    <tr>\n",
       "      <th>2022-12-14 08:00:00+00:00</th>\n",
       "      <td>0</td>\n",
       "    </tr>\n",
       "    <tr>\n",
       "      <th>2022-12-14 09:00:00+00:00</th>\n",
       "      <td>1</td>\n",
       "    </tr>\n",
       "    <tr>\n",
       "      <th>2022-12-14 10:00:00+00:00</th>\n",
       "      <td>0</td>\n",
       "    </tr>\n",
       "    <tr>\n",
       "      <th>2022-12-14 11:00:00+00:00</th>\n",
       "      <td>9</td>\n",
       "    </tr>\n",
       "    <tr>\n",
       "      <th>2022-12-14 12:00:00+00:00</th>\n",
       "      <td>4</td>\n",
       "    </tr>\n",
       "    <tr>\n",
       "      <th>2022-12-14 13:00:00+00:00</th>\n",
       "      <td>2</td>\n",
       "    </tr>\n",
       "    <tr>\n",
       "      <th>2022-12-14 14:00:00+00:00</th>\n",
       "      <td>0</td>\n",
       "    </tr>\n",
       "    <tr>\n",
       "      <th>2022-12-14 15:00:00+00:00</th>\n",
       "      <td>2</td>\n",
       "    </tr>\n",
       "    <tr>\n",
       "      <th>2022-12-14 16:00:00+00:00</th>\n",
       "      <td>0</td>\n",
       "    </tr>\n",
       "    <tr>\n",
       "      <th>2022-12-14 17:00:00+00:00</th>\n",
       "      <td>0</td>\n",
       "    </tr>\n",
       "    <tr>\n",
       "      <th>2022-12-14 18:00:00+00:00</th>\n",
       "      <td>0</td>\n",
       "    </tr>\n",
       "    <tr>\n",
       "      <th>2022-12-14 19:00:00+00:00</th>\n",
       "      <td>0</td>\n",
       "    </tr>\n",
       "    <tr>\n",
       "      <th>2022-12-14 20:00:00+00:00</th>\n",
       "      <td>1</td>\n",
       "    </tr>\n",
       "    <tr>\n",
       "      <th>2022-12-14 21:00:00+00:00</th>\n",
       "      <td>1</td>\n",
       "    </tr>\n",
       "    <tr>\n",
       "      <th>2022-12-14 22:00:00+00:00</th>\n",
       "      <td>5</td>\n",
       "    </tr>\n",
       "    <tr>\n",
       "      <th>2022-12-14 23:00:00+00:00</th>\n",
       "      <td>2</td>\n",
       "    </tr>\n",
       "    <tr>\n",
       "      <th>2022-12-15 00:00:00+00:00</th>\n",
       "      <td>3</td>\n",
       "    </tr>\n",
       "    <tr>\n",
       "      <th>2022-12-15 01:00:00+00:00</th>\n",
       "      <td>0</td>\n",
       "    </tr>\n",
       "    <tr>\n",
       "      <th>2022-12-15 02:00:00+00:00</th>\n",
       "      <td>19</td>\n",
       "    </tr>\n",
       "    <tr>\n",
       "      <th>2022-12-15 03:00:00+00:00</th>\n",
       "      <td>0</td>\n",
       "    </tr>\n",
       "    <tr>\n",
       "      <th>2022-12-15 04:00:00+00:00</th>\n",
       "      <td>0</td>\n",
       "    </tr>\n",
       "    <tr>\n",
       "      <th>2022-12-15 05:00:00+00:00</th>\n",
       "      <td>0</td>\n",
       "    </tr>\n",
       "    <tr>\n",
       "      <th>2022-12-15 06:00:00+00:00</th>\n",
       "      <td>0</td>\n",
       "    </tr>\n",
       "    <tr>\n",
       "      <th>2022-12-15 07:00:00+00:00</th>\n",
       "      <td>0</td>\n",
       "    </tr>\n",
       "    <tr>\n",
       "      <th>2022-12-15 08:00:00+00:00</th>\n",
       "      <td>0</td>\n",
       "    </tr>\n",
       "    <tr>\n",
       "      <th>2022-12-15 09:00:00+00:00</th>\n",
       "      <td>0</td>\n",
       "    </tr>\n",
       "    <tr>\n",
       "      <th>2022-12-15 10:00:00+00:00</th>\n",
       "      <td>0</td>\n",
       "    </tr>\n",
       "    <tr>\n",
       "      <th>2022-12-15 11:00:00+00:00</th>\n",
       "      <td>1</td>\n",
       "    </tr>\n",
       "    <tr>\n",
       "      <th>2022-12-15 12:00:00+00:00</th>\n",
       "      <td>0</td>\n",
       "    </tr>\n",
       "    <tr>\n",
       "      <th>2022-12-15 13:00:00+00:00</th>\n",
       "      <td>3</td>\n",
       "    </tr>\n",
       "    <tr>\n",
       "      <th>2022-12-15 14:00:00+00:00</th>\n",
       "      <td>0</td>\n",
       "    </tr>\n",
       "    <tr>\n",
       "      <th>2022-12-15 15:00:00+00:00</th>\n",
       "      <td>1</td>\n",
       "    </tr>\n",
       "    <tr>\n",
       "      <th>2022-12-15 16:00:00+00:00</th>\n",
       "      <td>0</td>\n",
       "    </tr>\n",
       "    <tr>\n",
       "      <th>2022-12-15 17:00:00+00:00</th>\n",
       "      <td>2</td>\n",
       "    </tr>\n",
       "    <tr>\n",
       "      <th>2022-12-15 18:00:00+00:00</th>\n",
       "      <td>0</td>\n",
       "    </tr>\n",
       "    <tr>\n",
       "      <th>2022-12-15 19:00:00+00:00</th>\n",
       "      <td>0</td>\n",
       "    </tr>\n",
       "    <tr>\n",
       "      <th>2022-12-15 20:00:00+00:00</th>\n",
       "      <td>0</td>\n",
       "    </tr>\n",
       "    <tr>\n",
       "      <th>2022-12-15 21:00:00+00:00</th>\n",
       "      <td>0</td>\n",
       "    </tr>\n",
       "    <tr>\n",
       "      <th>2022-12-15 22:00:00+00:00</th>\n",
       "      <td>1</td>\n",
       "    </tr>\n",
       "    <tr>\n",
       "      <th>2022-12-15 23:00:00+00:00</th>\n",
       "      <td>3</td>\n",
       "    </tr>\n",
       "  </tbody>\n",
       "</table>\n",
       "</div>"
      ],
      "text/plain": [
       "                           n_activities\n",
       "2022-12-13 12:00:00+00:00             1\n",
       "2022-12-13 13:00:00+00:00             1\n",
       "2022-12-13 14:00:00+00:00             0\n",
       "2022-12-13 15:00:00+00:00             0\n",
       "2022-12-13 16:00:00+00:00             3\n",
       "2022-12-13 17:00:00+00:00             8\n",
       "2022-12-13 18:00:00+00:00             2\n",
       "2022-12-13 19:00:00+00:00            16\n",
       "2022-12-13 20:00:00+00:00             3\n",
       "2022-12-13 21:00:00+00:00             1\n",
       "2022-12-13 22:00:00+00:00             2\n",
       "2022-12-13 23:00:00+00:00             2\n",
       "2022-12-14 00:00:00+00:00             1\n",
       "2022-12-14 01:00:00+00:00             0\n",
       "2022-12-14 02:00:00+00:00             0\n",
       "2022-12-14 03:00:00+00:00             0\n",
       "2022-12-14 04:00:00+00:00             0\n",
       "2022-12-14 05:00:00+00:00             1\n",
       "2022-12-14 06:00:00+00:00             0\n",
       "2022-12-14 07:00:00+00:00             0\n",
       "2022-12-14 08:00:00+00:00             0\n",
       "2022-12-14 09:00:00+00:00             1\n",
       "2022-12-14 10:00:00+00:00             0\n",
       "2022-12-14 11:00:00+00:00             9\n",
       "2022-12-14 12:00:00+00:00             4\n",
       "2022-12-14 13:00:00+00:00             2\n",
       "2022-12-14 14:00:00+00:00             0\n",
       "2022-12-14 15:00:00+00:00             2\n",
       "2022-12-14 16:00:00+00:00             0\n",
       "2022-12-14 17:00:00+00:00             0\n",
       "2022-12-14 18:00:00+00:00             0\n",
       "2022-12-14 19:00:00+00:00             0\n",
       "2022-12-14 20:00:00+00:00             1\n",
       "2022-12-14 21:00:00+00:00             1\n",
       "2022-12-14 22:00:00+00:00             5\n",
       "2022-12-14 23:00:00+00:00             2\n",
       "2022-12-15 00:00:00+00:00             3\n",
       "2022-12-15 01:00:00+00:00             0\n",
       "2022-12-15 02:00:00+00:00            19\n",
       "2022-12-15 03:00:00+00:00             0\n",
       "2022-12-15 04:00:00+00:00             0\n",
       "2022-12-15 05:00:00+00:00             0\n",
       "2022-12-15 06:00:00+00:00             0\n",
       "2022-12-15 07:00:00+00:00             0\n",
       "2022-12-15 08:00:00+00:00             0\n",
       "2022-12-15 09:00:00+00:00             0\n",
       "2022-12-15 10:00:00+00:00             0\n",
       "2022-12-15 11:00:00+00:00             1\n",
       "2022-12-15 12:00:00+00:00             0\n",
       "2022-12-15 13:00:00+00:00             3\n",
       "2022-12-15 14:00:00+00:00             0\n",
       "2022-12-15 15:00:00+00:00             1\n",
       "2022-12-15 16:00:00+00:00             0\n",
       "2022-12-15 17:00:00+00:00             2\n",
       "2022-12-15 18:00:00+00:00             0\n",
       "2022-12-15 19:00:00+00:00             0\n",
       "2022-12-15 20:00:00+00:00             0\n",
       "2022-12-15 21:00:00+00:00             0\n",
       "2022-12-15 22:00:00+00:00             1\n",
       "2022-12-15 23:00:00+00:00             3"
      ]
     },
     "metadata": {},
     "output_type": "display_data"
    }
   ],
   "source": [
    "train, test = split_activities(contributor, frequency)\n",
    "display(train.tail(60))"
   ]
  },
  {
   "cell_type": "code",
   "execution_count": null,
   "metadata": {},
   "outputs": [],
   "source": [
    "ets_results.to_csv('../models-evaluation/ets_model-quantile-85-v1.csv', index=False)"
   ]
  }
 ],
 "metadata": {
  "kernelspec": {
   "display_name": "Python 3",
   "language": "python",
   "name": "python3"
  },
  "language_info": {
   "codemirror_mode": {
    "name": "ipython",
    "version": 3
   },
   "file_extension": ".py",
   "mimetype": "text/x-python",
   "name": "python",
   "nbconvert_exporter": "python",
   "pygments_lexer": "ipython3",
   "version": "3.11.5"
  }
 },
 "nbformat": 4,
 "nbformat_minor": 2
}
