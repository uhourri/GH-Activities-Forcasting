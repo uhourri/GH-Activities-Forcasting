{
 "cells": [
  {
   "cell_type": "markdown",
   "metadata": {},
   "source": [
    "# Data importing"
   ]
  },
  {
   "cell_type": "code",
   "execution_count": 1,
   "metadata": {},
   "outputs": [],
   "source": [
    "import pandas as pd"
   ]
  },
  {
   "cell_type": "code",
   "execution_count": 2,
   "metadata": {},
   "outputs": [
    {
     "data": {
      "text/html": [
       "<div>\n",
       "<style scoped>\n",
       "    .dataframe tbody tr th:only-of-type {\n",
       "        vertical-align: middle;\n",
       "    }\n",
       "\n",
       "    .dataframe tbody tr th {\n",
       "        vertical-align: top;\n",
       "    }\n",
       "\n",
       "    .dataframe thead th {\n",
       "        text-align: right;\n",
       "    }\n",
       "</style>\n",
       "<table border=\"1\" class=\"dataframe\">\n",
       "  <thead>\n",
       "    <tr style=\"text-align: right;\">\n",
       "      <th></th>\n",
       "      <th>category</th>\n",
       "      <th>contributor</th>\n",
       "      <th>repository</th>\n",
       "      <th>activity</th>\n",
       "      <th>date</th>\n",
       "    </tr>\n",
       "  </thead>\n",
       "  <tbody>\n",
       "    <tr>\n",
       "      <th>0</th>\n",
       "      <td>bot</td>\n",
       "      <td>AmplabJenkins</td>\n",
       "      <td>apache/spark</td>\n",
       "      <td>Commenting pull request</td>\n",
       "      <td>2022-11-25 09:55:19+00:00</td>\n",
       "    </tr>\n",
       "    <tr>\n",
       "      <th>1</th>\n",
       "      <td>bot</td>\n",
       "      <td>AmplabJenkins</td>\n",
       "      <td>apache/spark</td>\n",
       "      <td>Commenting pull request</td>\n",
       "      <td>2022-11-25 09:55:23+00:00</td>\n",
       "    </tr>\n",
       "    <tr>\n",
       "      <th>2</th>\n",
       "      <td>bot</td>\n",
       "      <td>AmplabJenkins</td>\n",
       "      <td>apache/spark</td>\n",
       "      <td>Commenting pull request</td>\n",
       "      <td>2022-11-25 09:55:26+00:00</td>\n",
       "    </tr>\n",
       "    <tr>\n",
       "      <th>3</th>\n",
       "      <td>bot</td>\n",
       "      <td>analysis-bot</td>\n",
       "      <td>facebook/react-native</td>\n",
       "      <td>Commenting pull request</td>\n",
       "      <td>2022-11-25 09:55:27+00:00</td>\n",
       "    </tr>\n",
       "    <tr>\n",
       "      <th>4</th>\n",
       "      <td>bot</td>\n",
       "      <td>neos-bot</td>\n",
       "      <td>neos/neos-ui-compiled</td>\n",
       "      <td>Pushing commits</td>\n",
       "      <td>2022-11-25 09:55:47+00:00</td>\n",
       "    </tr>\n",
       "    <tr>\n",
       "      <th>...</th>\n",
       "      <td>...</td>\n",
       "      <td>...</td>\n",
       "      <td>...</td>\n",
       "      <td>...</td>\n",
       "      <td>...</td>\n",
       "    </tr>\n",
       "    <tr>\n",
       "      <th>1015418</th>\n",
       "      <td>human</td>\n",
       "      <td>tychoish</td>\n",
       "      <td>neondatabase/autoscaling</td>\n",
       "      <td>Reviewing code</td>\n",
       "      <td>2023-04-15 16:06:15+00:00</td>\n",
       "    </tr>\n",
       "    <tr>\n",
       "      <th>1015419</th>\n",
       "      <td>human</td>\n",
       "      <td>tychoish</td>\n",
       "      <td>neondatabase/autoscaling</td>\n",
       "      <td>Reviewing code</td>\n",
       "      <td>2023-04-15 16:07:26+00:00</td>\n",
       "    </tr>\n",
       "    <tr>\n",
       "      <th>1015420</th>\n",
       "      <td>human</td>\n",
       "      <td>snakefoot</td>\n",
       "      <td>snakefoot/NLog</td>\n",
       "      <td>Creating branch</td>\n",
       "      <td>2023-04-15 16:07:33+00:00</td>\n",
       "    </tr>\n",
       "    <tr>\n",
       "      <th>1015421</th>\n",
       "      <td>human</td>\n",
       "      <td>snakefoot</td>\n",
       "      <td>NLog/NLog</td>\n",
       "      <td>Opening pull request</td>\n",
       "      <td>2023-04-15 16:08:07+00:00</td>\n",
       "    </tr>\n",
       "    <tr>\n",
       "      <th>1015422</th>\n",
       "      <td>human</td>\n",
       "      <td>lmangani</td>\n",
       "      <td>auxten/chdb</td>\n",
       "      <td>Forking repository</td>\n",
       "      <td>2023-04-15 16:14:22+00:00</td>\n",
       "    </tr>\n",
       "  </tbody>\n",
       "</table>\n",
       "<p>1015423 rows × 5 columns</p>\n",
       "</div>"
      ],
      "text/plain": [
       "        category    contributor                repository  \\\n",
       "0            bot  AmplabJenkins              apache/spark   \n",
       "1            bot  AmplabJenkins              apache/spark   \n",
       "2            bot  AmplabJenkins              apache/spark   \n",
       "3            bot   analysis-bot     facebook/react-native   \n",
       "4            bot       neos-bot     neos/neos-ui-compiled   \n",
       "...          ...            ...                       ...   \n",
       "1015418    human       tychoish  neondatabase/autoscaling   \n",
       "1015419    human       tychoish  neondatabase/autoscaling   \n",
       "1015420    human      snakefoot            snakefoot/NLog   \n",
       "1015421    human      snakefoot                 NLog/NLog   \n",
       "1015422    human       lmangani               auxten/chdb   \n",
       "\n",
       "                        activity                       date  \n",
       "0        Commenting pull request  2022-11-25 09:55:19+00:00  \n",
       "1        Commenting pull request  2022-11-25 09:55:23+00:00  \n",
       "2        Commenting pull request  2022-11-25 09:55:26+00:00  \n",
       "3        Commenting pull request  2022-11-25 09:55:27+00:00  \n",
       "4                Pushing commits  2022-11-25 09:55:47+00:00  \n",
       "...                          ...                        ...  \n",
       "1015418           Reviewing code  2023-04-15 16:06:15+00:00  \n",
       "1015419           Reviewing code  2023-04-15 16:07:26+00:00  \n",
       "1015420          Creating branch  2023-04-15 16:07:33+00:00  \n",
       "1015421     Opening pull request  2023-04-15 16:08:07+00:00  \n",
       "1015422       Forking repository  2023-04-15 16:14:22+00:00  \n",
       "\n",
       "[1015423 rows x 5 columns]"
      ]
     },
     "execution_count": 2,
     "metadata": {},
     "output_type": "execute_result"
    }
   ],
   "source": [
    "activities = pd.read_csv('../data/activities.csv')\n",
    "activities"
   ]
  },
  {
   "cell_type": "code",
   "execution_count": 3,
   "metadata": {},
   "outputs": [
    {
     "data": {
      "text/html": [
       "<div>\n",
       "<style scoped>\n",
       "    .dataframe tbody tr th:only-of-type {\n",
       "        vertical-align: middle;\n",
       "    }\n",
       "\n",
       "    .dataframe tbody tr th {\n",
       "        vertical-align: top;\n",
       "    }\n",
       "\n",
       "    .dataframe thead th {\n",
       "        text-align: right;\n",
       "    }\n",
       "</style>\n",
       "<table border=\"1\" class=\"dataframe\">\n",
       "  <thead>\n",
       "    <tr style=\"text-align: right;\">\n",
       "      <th></th>\n",
       "      <th>category</th>\n",
       "      <th>contributor</th>\n",
       "      <th>repository</th>\n",
       "      <th>activity</th>\n",
       "      <th>date</th>\n",
       "    </tr>\n",
       "  </thead>\n",
       "  <tbody>\n",
       "    <tr>\n",
       "      <th>365</th>\n",
       "      <td>bot</td>\n",
       "      <td>nodebb-misty</td>\n",
       "      <td>julianlam/nodebb-plugin-email-helper</td>\n",
       "      <td>Closing pull request</td>\n",
       "      <td>2022-11-25 11:08:46+00:00</td>\n",
       "    </tr>\n",
       "    <tr>\n",
       "      <th>409</th>\n",
       "      <td>bot</td>\n",
       "      <td>nodebb-misty</td>\n",
       "      <td>NodeBB/nodebb-plugin-topic-redirect</td>\n",
       "      <td>Closing pull request</td>\n",
       "      <td>2022-11-25 11:20:10+00:00</td>\n",
       "    </tr>\n",
       "    <tr>\n",
       "      <th>417</th>\n",
       "      <td>bot</td>\n",
       "      <td>nodebb-misty</td>\n",
       "      <td>NodeBB/nodebb-plugin-write-api</td>\n",
       "      <td>Closing pull request</td>\n",
       "      <td>2022-11-25 11:21:23+00:00</td>\n",
       "    </tr>\n",
       "    <tr>\n",
       "      <th>523</th>\n",
       "      <td>bot</td>\n",
       "      <td>nodebb-misty</td>\n",
       "      <td>julianlam/nodebb-plugin-sso-oauth</td>\n",
       "      <td>Closing pull request</td>\n",
       "      <td>2022-11-25 11:47:30+00:00</td>\n",
       "    </tr>\n",
       "    <tr>\n",
       "      <th>5518</th>\n",
       "      <td>bot</td>\n",
       "      <td>jenkins-x-bot-test</td>\n",
       "      <td>jenkins-x-charts/jxboot-helmfile-resources</td>\n",
       "      <td>Creating branch</td>\n",
       "      <td>2022-11-26 19:57:10+00:00</td>\n",
       "    </tr>\n",
       "    <tr>\n",
       "      <th>...</th>\n",
       "      <td>...</td>\n",
       "      <td>...</td>\n",
       "      <td>...</td>\n",
       "      <td>...</td>\n",
       "      <td>...</td>\n",
       "    </tr>\n",
       "    <tr>\n",
       "      <th>1015418</th>\n",
       "      <td>human</td>\n",
       "      <td>tychoish</td>\n",
       "      <td>neondatabase/autoscaling</td>\n",
       "      <td>Reviewing code</td>\n",
       "      <td>2023-04-15 16:06:15+00:00</td>\n",
       "    </tr>\n",
       "    <tr>\n",
       "      <th>1015419</th>\n",
       "      <td>human</td>\n",
       "      <td>tychoish</td>\n",
       "      <td>neondatabase/autoscaling</td>\n",
       "      <td>Reviewing code</td>\n",
       "      <td>2023-04-15 16:07:26+00:00</td>\n",
       "    </tr>\n",
       "    <tr>\n",
       "      <th>1015420</th>\n",
       "      <td>human</td>\n",
       "      <td>snakefoot</td>\n",
       "      <td>snakefoot/NLog</td>\n",
       "      <td>Creating branch</td>\n",
       "      <td>2023-04-15 16:07:33+00:00</td>\n",
       "    </tr>\n",
       "    <tr>\n",
       "      <th>1015421</th>\n",
       "      <td>human</td>\n",
       "      <td>snakefoot</td>\n",
       "      <td>NLog/NLog</td>\n",
       "      <td>Opening pull request</td>\n",
       "      <td>2023-04-15 16:08:07+00:00</td>\n",
       "    </tr>\n",
       "    <tr>\n",
       "      <th>1015422</th>\n",
       "      <td>human</td>\n",
       "      <td>lmangani</td>\n",
       "      <td>auxten/chdb</td>\n",
       "      <td>Forking repository</td>\n",
       "      <td>2023-04-15 16:14:22+00:00</td>\n",
       "    </tr>\n",
       "  </tbody>\n",
       "</table>\n",
       "<p>162000 rows × 5 columns</p>\n",
       "</div>"
      ],
      "text/plain": [
       "        category         contributor  \\\n",
       "365          bot        nodebb-misty   \n",
       "409          bot        nodebb-misty   \n",
       "417          bot        nodebb-misty   \n",
       "523          bot        nodebb-misty   \n",
       "5518         bot  jenkins-x-bot-test   \n",
       "...          ...                 ...   \n",
       "1015418    human            tychoish   \n",
       "1015419    human            tychoish   \n",
       "1015420    human           snakefoot   \n",
       "1015421    human           snakefoot   \n",
       "1015422    human            lmangani   \n",
       "\n",
       "                                         repository              activity  \\\n",
       "365            julianlam/nodebb-plugin-email-helper  Closing pull request   \n",
       "409             NodeBB/nodebb-plugin-topic-redirect  Closing pull request   \n",
       "417                  NodeBB/nodebb-plugin-write-api  Closing pull request   \n",
       "523               julianlam/nodebb-plugin-sso-oauth  Closing pull request   \n",
       "5518     jenkins-x-charts/jxboot-helmfile-resources       Creating branch   \n",
       "...                                             ...                   ...   \n",
       "1015418                    neondatabase/autoscaling        Reviewing code   \n",
       "1015419                    neondatabase/autoscaling        Reviewing code   \n",
       "1015420                              snakefoot/NLog       Creating branch   \n",
       "1015421                                   NLog/NLog  Opening pull request   \n",
       "1015422                                 auxten/chdb    Forking repository   \n",
       "\n",
       "                             date  \n",
       "365     2022-11-25 11:08:46+00:00  \n",
       "409     2022-11-25 11:20:10+00:00  \n",
       "417     2022-11-25 11:21:23+00:00  \n",
       "523     2022-11-25 11:47:30+00:00  \n",
       "5518    2022-11-26 19:57:10+00:00  \n",
       "...                           ...  \n",
       "1015418 2023-04-15 16:06:15+00:00  \n",
       "1015419 2023-04-15 16:07:26+00:00  \n",
       "1015420 2023-04-15 16:07:33+00:00  \n",
       "1015421 2023-04-15 16:08:07+00:00  \n",
       "1015422 2023-04-15 16:14:22+00:00  \n",
       "\n",
       "[162000 rows x 5 columns]"
      ]
     },
     "execution_count": 3,
     "metadata": {},
     "output_type": "execute_result"
    }
   ],
   "source": [
    "# 600 events for each contributor\n",
    "data = ( \n",
    "    activities\n",
    "    .groupby('contributor')\n",
    "    .tail(600)\n",
    "    .groupby('contributor')\n",
    "    .filter(lambda x: len(x) == 600)\n",
    ")\n",
    "data['date'] = pd.to_datetime(data['date'])\n",
    "data"
   ]
  },
  {
   "cell_type": "markdown",
   "metadata": {},
   "source": [
    "# Dynamic frequence"
   ]
  },
  {
   "cell_type": "code",
   "execution_count": 4,
   "metadata": {},
   "outputs": [],
   "source": [
    "def map_frequency(time_range):\n",
    "    if time_range >= 60 * 60 * 24:\n",
    "        return 'D'  # Daily if time range for one activity is a day or more\n",
    "    elif time_range >= 60 * 60:\n",
    "        time_range_h = time_range // 3600\n",
    "        freq = int(24 // ((24 // time_range_h) + 1)) if time_range_h > 1 else 1\n",
    "        return f\"{freq}H\"  # Hourly frequency\n",
    "    elif time_range >= 60:\n",
    "        time_range_m = time_range // 60\n",
    "        freq = int(60 // ((60 // time_range_m) + 1)) if time_range_m > 1 else 1\n",
    "        return f\"{freq}T\"  # Minutely frequency\n",
    "    else:\n",
    "        freq = int(60 // ((60 // time_range) + 1)) if time_range > 1 else 1\n",
    "        return f\"{freq}S\"  # Secondly frequency"
   ]
  },
  {
   "cell_type": "code",
   "execution_count": null,
   "metadata": {},
   "outputs": [],
   "source": [
    "# ((24*60*60)//((24*60*60)//(49*60*60)+1))//3600"
   ]
  },
  {
   "cell_type": "code",
   "execution_count": 5,
   "metadata": {},
   "outputs": [
    {
     "data": {
      "text/plain": [
       "<Axes: >"
      ]
     },
     "execution_count": 5,
     "metadata": {},
     "output_type": "execute_result"
    },
    {
     "data": {
      "image/png": "[encoded data removed]",
      "text/plain": [
       "<Figure size 1400x600 with 1 Axes>"
      ]
     },
     "metadata": {},
     "output_type": "display_data"
    }
   ],
   "source": [
    "random_name = data['contributor'].sample().values[0]\n",
    "random_user = data[data['contributor'] == random_name].reset_index(drop=True)\n",
    "\n",
    "result = (\n",
    "    random_user\n",
    "    .groupby([pd.Grouper(key='date', freq='D')])['activity']\n",
    "    .count()\n",
    "    .reset_index(name='n_activities')\n",
    "    .set_index('date')\n",
    "    .resample('D')\n",
    "    .sum()\n",
    "    .rename_axis(None)\n",
    ")\n",
    "result.plot(figsize=(14, 6))"
   ]
  },
  {
   "cell_type": "markdown",
   "metadata": {},
   "source": [
    "## 1. Mean approach"
   ]
  },
  {
   "cell_type": "markdown",
   "metadata": {},
   "source": [
    "Find the frequency based on the mean of time differences between activities"
   ]
  },
  {
   "cell_type": "code",
   "execution_count": 6,
   "metadata": {},
   "outputs": [],
   "source": [
    "def mean_based_frequency(contributor):\n",
    "    train_data = contributor.head(300)\n",
    "    train_data = train_data[train_data['date'] >= train_data['date'].max() - pd.DateOffset(months=3)]\n",
    "    time_range = (train_data['date'].iloc[-1] - train_data['date'].iloc[0]).total_seconds()//len(train_data)\n",
    "    print(\"Time range is :\", time_range)\n",
    "    frequency = map_frequency(time_range)\n",
    "    return frequency"
   ]
  },
  {
   "cell_type": "code",
   "execution_count": 7,
   "metadata": {},
   "outputs": [
    {
     "name": "stdout",
     "output_type": "stream",
     "text": [
      "Time range is : 6114.0\n",
      "Frequence is : 1H\n"
     ]
    }
   ],
   "source": [
    "# Example usage:\n",
    "print(\"Frequence is :\", mean_based_frequency(random_user))"
   ]
  },
  {
   "cell_type": "markdown",
   "metadata": {},
   "source": [
    "## 2. Quantile approach"
   ]
  },
  {
   "cell_type": "markdown",
   "metadata": {},
   "source": [
    "Find the frequency based on the median of time differences between activities"
   ]
  },
  {
   "cell_type": "code",
   "execution_count": 8,
   "metadata": {},
   "outputs": [],
   "source": [
    "def quantile_based_frequency(contributor, quantile=0.5):\n",
    "    train_data = contributor.head(300)\n",
    "    train_data = train_data[train_data['date'] >= train_data['date'].max() - pd.DateOffset(months=3)]\n",
    "    train_data['time_diff'] = train_data['date'].diff().dt.total_seconds()\n",
    "    time_range = train_data['time_diff'].quantile(quantile)\n",
    "    print(\"Time range is :\", time_range)\n",
    "    frequency = map_frequency(time_range)\n",
    "    return frequency"
   ]
  },
  {
   "cell_type": "code",
   "execution_count": 9,
   "metadata": {},
   "outputs": [
    {
     "name": "stdout",
     "output_type": "stream",
     "text": [
      "Time range is : 1779.0\n",
      "Frequence is : 20T\n"
     ]
    }
   ],
   "source": [
    "# Example usage:\n",
    "print(\"Frequence is :\", quantile_based_frequency(random_user, quantile=0.5))"
   ]
  },
  {
   "cell_type": "markdown",
   "metadata": {},
   "source": [
    "## 3. Smallest time approach"
   ]
  },
  {
   "cell_type": "markdown",
   "metadata": {},
   "source": [
    "Find the frequency based on the smallest time to do a specified number of activities (= 100) by sliding over the data"
   ]
  },
  {
   "cell_type": "code",
   "execution_count": 10,
   "metadata": {},
   "outputs": [],
   "source": [
    "def smallest_time_based_frequency(contributor, window_size=100):\n",
    "    train_data = contributor.head(300)\n",
    "    train_data = train_data[train_data['date'] >= train_data['date'].max() - pd.DateOffset(months=3)]\n",
    "\n",
    "    smallest_time = None\n",
    "    # iterate over contributor's data in a sliding window\n",
    "    for i in range(len(train_data) - window_size + 1):\n",
    "        window = train_data.iloc[i:i + window_size]\n",
    "        time_span = window['date'].iloc[-1] - window['date'].iloc[0]\n",
    "\n",
    "        # the smallest time span\n",
    "        if smallest_time is None or time_span < smallest_time:\n",
    "            smallest_time = time_span\n",
    "\n",
    "    time_range = smallest_time.total_seconds()//window_size\n",
    "\n",
    "    print(\"Time range is :\", time_range)\n",
    "    frequency = map_frequency(time_range)\n",
    "\n",
    "    return frequency"
   ]
  },
  {
   "cell_type": "code",
   "execution_count": 11,
   "metadata": {},
   "outputs": [
    {
     "name": "stdout",
     "output_type": "stream",
     "text": [
      "Time range is : 3485.0\n",
      "Frequence is : 30T\n"
     ]
    }
   ],
   "source": [
    "# Example usage:\n",
    "print(\"Frequence is :\", smallest_time_based_frequency(random_user, window_size=100))"
   ]
  },
  {
   "cell_type": "markdown",
   "metadata": {},
   "source": [
    "# Data splitting"
   ]
  },
  {
   "cell_type": "code",
   "execution_count": 12,
   "metadata": {},
   "outputs": [],
   "source": [
    "def split_activities(contributor, frequency):\n",
    "\n",
    "    result = (\n",
    "        contributor\n",
    "        .groupby([pd.Grouper(key='date', freq=frequency)])['activity']\n",
    "        .count()\n",
    "        .reset_index(name='n_activities')\n",
    "        .set_index('date')\n",
    "        .resample(frequency)\n",
    "        .sum()\n",
    "        .rename_axis(None)\n",
    "        .assign(\n",
    "            cumsum_activities = lambda x: x['n_activities'].cumsum()\n",
    "        )\n",
    "    )\n",
    "\n",
    "    train, test = (\n",
    "        result[result['cumsum_activities'] <= 300]\n",
    "        .apply(lambda x : x[x.index >= x.index.max() - pd.DateOffset(months=3)])\n",
    "        .drop('cumsum_activities', axis=1),\n",
    "\n",
    "        result[result['cumsum_activities'] > 300]\n",
    "        .drop('cumsum_activities', axis=1)\n",
    "    )\n",
    "\n",
    "    return train, test"
   ]
  },
  {
   "cell_type": "code",
   "execution_count": 18,
   "metadata": {},
   "outputs": [
    {
     "name": "stdout",
     "output_type": "stream",
     "text": [
      "Time range is : 3485.0\n"
     ]
    },
    {
     "data": {
      "text/plain": [
       "<Axes: >"
      ]
     },
     "execution_count": 18,
     "metadata": {},
     "output_type": "execute_result"
    },
    {
     "data": {
      "image/png": "[encoded data removed]",
      "text/plain": [
       "<Figure size 640x480 with 1 Axes>"
      ]
     },
     "metadata": {},
     "output_type": "display_data"
    }
   ],
   "source": [
    "frequency = smallest_time_based_frequency(random_user, window_size=100)\n",
    "train, test = split_activities(random_user, frequency)\n",
    "train.plot()"
   ]
  }
 ],
 "metadata": {
  "kernelspec": {
   "display_name": "Python 3",
   "language": "python",
   "name": "python3"
  },
  "language_info": {
   "codemirror_mode": {
    "name": "ipython",
    "version": 3
   },
   "file_extension": ".py",
   "mimetype": "text/x-python",
   "name": "python",
   "nbconvert_exporter": "python",
   "pygments_lexer": "ipython3",
   "version": "3.11.5"
  }
 },
 "nbformat": 4,
 "nbformat_minor": 2
}
